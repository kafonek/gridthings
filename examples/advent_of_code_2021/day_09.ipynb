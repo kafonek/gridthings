{
 "cells": [
  {
   "cell_type": "markdown",
   "id": "61fba10d",
   "metadata": {},
   "source": [
    "The the [day 9 puzzle](https://adventofcode.com/2021/day/9) involves analyzing a grid to discover \"low points\" in the grid and then extrapolate out \"basins\" from those low points.\n",
    "\n",
    "     - A low point is when no adjacent numbers are lower than it. \n",
    "     - A basin is all points touching a low point (or parts of the basin) that increment up in value without hitting 9."
   ]
  },
  {
   "cell_type": "code",
   "execution_count": 1,
   "id": "9244d006",
   "metadata": {
    "ExecuteTime": {
     "end_time": "2021-12-11T18:10:44.334834Z",
     "start_time": "2021-12-11T18:10:44.293732Z"
    }
   },
   "outputs": [],
   "source": [
    "import gridthings\n",
    "import pandas  # only for printing out the grid, not for analysis"
   ]
  },
  {
   "cell_type": "code",
   "execution_count": 2,
   "id": "e65f5ea5",
   "metadata": {
    "ExecuteTime": {
     "end_time": "2021-12-11T18:10:44.647189Z",
     "start_time": "2021-12-11T18:10:44.338214Z"
    }
   },
   "outputs": [
    {
     "data": {
      "text/plain": [
       "<IntGrid shape=(5, 10)>"
      ]
     },
     "execution_count": 2,
     "metadata": {},
     "output_type": "execute_result"
    }
   ],
   "source": [
    "data = \"\"\"\n",
    "2199943210\n",
    "3987894921\n",
    "9856789892\n",
    "8767896789\n",
    "9899965678\n",
    "\"\"\"\n",
    "\n",
    "# Use an IntGrid vice regular Grid to cast each value to int\n",
    "#\n",
    "# Setting the out_of_bounds_value to 10 so that when we\n",
    "# compare whether one cell is less than a neighbor cell,\n",
    "# any out of bounds cells will return true.\n",
    "# you'll see how this applies down below\n",
    "grid = gridthings.IntGrid(data, out_of_bounds_value=10)\n",
    "grid"
   ]
  },
  {
   "cell_type": "code",
   "execution_count": 3,
   "id": "f68b1884",
   "metadata": {
    "ExecuteTime": {
     "end_time": "2021-12-11T18:10:44.862473Z",
     "start_time": "2021-12-11T18:10:44.649252Z"
    }
   },
   "outputs": [
    {
     "data": {
      "text/plain": [
       "IntCell(y=1, x=1, value=9)"
      ]
     },
     "execution_count": 3,
     "metadata": {},
     "output_type": "execute_result"
    }
   ],
   "source": [
    "# Access individual cells in the grid with .get\n",
    "grid.get(1, 1)"
   ]
  },
  {
   "cell_type": "code",
   "execution_count": 4,
   "id": "37854b35",
   "metadata": {
    "ExecuteTime": {
     "end_time": "2021-12-11T18:10:45.228343Z",
     "start_time": "2021-12-11T18:10:44.865069Z"
    }
   },
   "outputs": [
    {
     "data": {
      "application/vnd.dataresource+json": {
       "data": [
        {
         "0": 2,
         "1": 1,
         "2": 9,
         "3": 9,
         "4": 9,
         "5": 4,
         "6": 3,
         "7": 2,
         "8": 1,
         "9": 0,
         "index": 0
        },
        {
         "0": 3,
         "1": 9,
         "2": 8,
         "3": 7,
         "4": 8,
         "5": 9,
         "6": 4,
         "7": 9,
         "8": 2,
         "9": 1,
         "index": 1
        },
        {
         "0": 9,
         "1": 8,
         "2": 5,
         "3": 6,
         "4": 7,
         "5": 8,
         "6": 9,
         "7": 8,
         "8": 9,
         "9": 2,
         "index": 2
        },
        {
         "0": 8,
         "1": 7,
         "2": 6,
         "3": 7,
         "4": 8,
         "5": 9,
         "6": 6,
         "7": 7,
         "8": 8,
         "9": 9,
         "index": 3
        },
        {
         "0": 9,
         "1": 8,
         "2": 9,
         "3": 9,
         "4": 9,
         "5": 6,
         "6": 5,
         "7": 6,
         "8": 7,
         "9": 8,
         "index": 4
        }
       ],
       "schema": {
        "fields": [
         {
          "name": "index",
          "type": "integer"
         },
         {
          "name": 0,
          "type": "integer"
         },
         {
          "name": 1,
          "type": "integer"
         },
         {
          "name": 2,
          "type": "integer"
         },
         {
          "name": 3,
          "type": "integer"
         },
         {
          "name": 4,
          "type": "integer"
         },
         {
          "name": 5,
          "type": "integer"
         },
         {
          "name": 6,
          "type": "integer"
         },
         {
          "name": 7,
          "type": "integer"
         },
         {
          "name": 8,
          "type": "integer"
         },
         {
          "name": 9,
          "type": "integer"
         }
        ],
        "pandas_version": "0.20.0",
        "primaryKey": [
         "index"
        ]
       }
      },
      "text/html": [
       "<div>\n",
       "<style scoped>\n",
       "    .dataframe tbody tr th:only-of-type {\n",
       "        vertical-align: middle;\n",
       "    }\n",
       "\n",
       "    .dataframe tbody tr th {\n",
       "        vertical-align: top;\n",
       "    }\n",
       "\n",
       "    .dataframe thead th {\n",
       "        text-align: right;\n",
       "    }\n",
       "</style>\n",
       "<table border=\"1\" class=\"dataframe\">\n",
       "  <thead>\n",
       "    <tr style=\"text-align: right;\">\n",
       "      <th></th>\n",
       "      <th>0</th>\n",
       "      <th>1</th>\n",
       "      <th>2</th>\n",
       "      <th>3</th>\n",
       "      <th>4</th>\n",
       "      <th>5</th>\n",
       "      <th>6</th>\n",
       "      <th>7</th>\n",
       "      <th>8</th>\n",
       "      <th>9</th>\n",
       "    </tr>\n",
       "  </thead>\n",
       "  <tbody>\n",
       "    <tr>\n",
       "      <th>0</th>\n",
       "      <td>2</td>\n",
       "      <td>1</td>\n",
       "      <td>9</td>\n",
       "      <td>9</td>\n",
       "      <td>9</td>\n",
       "      <td>4</td>\n",
       "      <td>3</td>\n",
       "      <td>2</td>\n",
       "      <td>1</td>\n",
       "      <td>0</td>\n",
       "    </tr>\n",
       "    <tr>\n",
       "      <th>1</th>\n",
       "      <td>3</td>\n",
       "      <td>9</td>\n",
       "      <td>8</td>\n",
       "      <td>7</td>\n",
       "      <td>8</td>\n",
       "      <td>9</td>\n",
       "      <td>4</td>\n",
       "      <td>9</td>\n",
       "      <td>2</td>\n",
       "      <td>1</td>\n",
       "    </tr>\n",
       "    <tr>\n",
       "      <th>2</th>\n",
       "      <td>9</td>\n",
       "      <td>8</td>\n",
       "      <td>5</td>\n",
       "      <td>6</td>\n",
       "      <td>7</td>\n",
       "      <td>8</td>\n",
       "      <td>9</td>\n",
       "      <td>8</td>\n",
       "      <td>9</td>\n",
       "      <td>2</td>\n",
       "    </tr>\n",
       "    <tr>\n",
       "      <th>3</th>\n",
       "      <td>8</td>\n",
       "      <td>7</td>\n",
       "      <td>6</td>\n",
       "      <td>7</td>\n",
       "      <td>8</td>\n",
       "      <td>9</td>\n",
       "      <td>6</td>\n",
       "      <td>7</td>\n",
       "      <td>8</td>\n",
       "      <td>9</td>\n",
       "    </tr>\n",
       "    <tr>\n",
       "      <th>4</th>\n",
       "      <td>9</td>\n",
       "      <td>8</td>\n",
       "      <td>9</td>\n",
       "      <td>9</td>\n",
       "      <td>9</td>\n",
       "      <td>6</td>\n",
       "      <td>5</td>\n",
       "      <td>6</td>\n",
       "      <td>7</td>\n",
       "      <td>8</td>\n",
       "    </tr>\n",
       "  </tbody>\n",
       "</table>\n",
       "</div>"
      ],
      "text/plain": [
       "   0  1  2  3  4  5  6  7  8  9\n",
       "0  2  1  9  9  9  4  3  2  1  0\n",
       "1  3  9  8  7  8  9  4  9  2  1\n",
       "2  9  8  5  6  7  8  9  8  9  2\n",
       "3  8  7  6  7  8  9  6  7  8  9\n",
       "4  9  8  9  9  9  6  5  6  7  8"
      ]
     },
     "execution_count": 4,
     "metadata": {},
     "output_type": "execute_result"
    }
   ],
   "source": [
    "# We can read the grid into Pandas easily with grid.values(),\n",
    "# which is returning a list of lists of cell values (List[List[int]])\n",
    "\n",
    "df = pandas.DataFrame(grid.values())\n",
    "df"
   ]
  },
  {
   "cell_type": "code",
   "execution_count": 5,
   "id": "536f34fa",
   "metadata": {
    "ExecuteTime": {
     "end_time": "2021-12-11T18:10:45.512449Z",
     "start_time": "2021-12-11T18:10:45.230818Z"
    }
   },
   "outputs": [
    {
     "data": {
      "text/plain": [
       "[IntCell(y=0, x=0, value=2),\n",
       " IntCell(y=0, x=1, value=1),\n",
       " IntCell(y=0, x=2, value=9),\n",
       " IntCell(y=0, x=3, value=9),\n",
       " IntCell(y=0, x=4, value=9)]"
      ]
     },
     "execution_count": 5,
     "metadata": {},
     "output_type": "execute_result"
    }
   ],
   "source": [
    "# Alternatively, get a flattened Collection of cells that you\n",
    "# can iterate through with .flatten()\n",
    "grid.flatten()[:5]"
   ]
  },
  {
   "cell_type": "code",
   "execution_count": 6,
   "id": "62469a57",
   "metadata": {
    "ExecuteTime": {
     "end_time": "2021-12-11T18:10:45.737971Z",
     "start_time": "2021-12-11T18:10:45.515018Z"
    }
   },
   "outputs": [
    {
     "data": {
      "text/plain": [
       "[IntCell(y=0, x=1, value=1),\n",
       " IntCell(y=0, x=9, value=0),\n",
       " IntCell(y=2, x=2, value=5),\n",
       " IntCell(y=4, x=6, value=5)]"
      ]
     },
     "execution_count": 6,
     "metadata": {},
     "output_type": "execute_result"
    }
   ],
   "source": [
    "# Step one, find all the low points in the grid\n",
    "# grid.peek_linear() returns a Collection of four cells\n",
    "# from the y/x point you give it.  [left, right, up, down]\n",
    "#\n",
    "# According to the Advent of Code page, there should be 4 low points\n",
    "low_points = []\n",
    "\n",
    "\n",
    "def is_low_point(y: int, x: int):\n",
    "    cell = grid.get(y, x)\n",
    "    for neighbor in grid.peek_linear(y, x):\n",
    "        # return False if any neighboring cells are smaller\n",
    "        # it wouldn't be a low point if that's the case\n",
    "        # remember OutOfBoundCells have value 10 because\n",
    "        # of the default set earlier on\n",
    "        if cell > neighbor:\n",
    "            return False\n",
    "    return True\n",
    "\n",
    "\n",
    "for cell in grid.flatten():\n",
    "    if is_low_point(cell.y, cell.x):\n",
    "        low_points.append(cell)\n",
    "\n",
    "low_points"
   ]
  },
  {
   "cell_type": "code",
   "execution_count": 7,
   "id": "2fa89eab",
   "metadata": {
    "ExecuteTime": {
     "end_time": "2021-12-11T18:10:46.021425Z",
     "start_time": "2021-12-11T18:10:45.739716Z"
    }
   },
   "outputs": [
    {
     "data": {
      "text/plain": [
       "[<Basin start=y=0 x=1 value=1 points=3>,\n",
       " <Basin start=y=0 x=9 value=0 points=9>,\n",
       " <Basin start=y=2 x=2 value=5 points=14>,\n",
       " <Basin start=y=4 x=6 value=5 points=9>]"
      ]
     },
     "execution_count": 7,
     "metadata": {},
     "output_type": "execute_result"
    }
   ],
   "source": [
    "# Step two, find basins around those low points\n",
    "# a basin is all locations neighboring a low point\n",
    "# that are higher value but not OutOfBounds or value 9\n",
    "#\n",
    "# Note that Cells can be compared with >, >=, <, <=\n",
    "# as if they were plain values, but Cell == Cell\n",
    "# will compare the dictionaries, so \"cell in [cells]\"\n",
    "# still works here\n",
    "#\n",
    "# There should be 4 basins, one for each low point\n",
    "# The sizes should be 3, 9, 14, 9\n",
    "basins = []\n",
    "\n",
    "\n",
    "class Basin:\n",
    "    def __init__(self, start_cell: gridthings.Cell):\n",
    "        # self.points will be extended during the self.explore\n",
    "        # method if it finds neighbors matching the right criteria\n",
    "        # then this for loop will iterate over the new points too\n",
    "        self.points = [start_cell]\n",
    "        for point in self.points:\n",
    "            self.explore(point)\n",
    "\n",
    "    def explore(self, cell: gridthings.Cell):\n",
    "        for neighbor in grid.peek_linear(cell.y, cell.x):\n",
    "            if neighbor not in self.points:\n",
    "                if neighbor < 9 and neighbor > cell:\n",
    "                    self.points.append(neighbor)\n",
    "\n",
    "    def __repr__(self):\n",
    "        return f\"<Basin start={self.points[0]} points={len(self.points)}>\"\n",
    "\n",
    "\n",
    "for point in low_points:\n",
    "    basin = Basin(start_cell=point)\n",
    "    basins.append(basin)\n",
    "\n",
    "basins"
   ]
  },
  {
   "cell_type": "code",
   "execution_count": 8,
   "id": "19017852",
   "metadata": {
    "ExecuteTime": {
     "end_time": "2021-12-11T18:10:46.278808Z",
     "start_time": "2021-12-11T18:10:46.024142Z"
    }
   },
   "outputs": [
    {
     "data": {
      "text/plain": [
       "[IntCell(y=0, x=1, value=1),\n",
       " IntCell(y=0, x=0, value=2),\n",
       " IntCell(y=1, x=0, value=3)]"
      ]
     },
     "execution_count": 8,
     "metadata": {},
     "output_type": "execute_result"
    }
   ],
   "source": [
    "basins[0].points"
   ]
  },
  {
   "cell_type": "code",
   "execution_count": 9,
   "id": "106e78c4",
   "metadata": {
    "ExecuteTime": {
     "end_time": "2021-12-11T18:10:46.770807Z",
     "start_time": "2021-12-11T18:10:46.280520Z"
    }
   },
   "outputs": [
    {
     "data": {
      "text/plain": [
       "[IntCell(y=0, x=9, value=0),\n",
       " IntCell(y=0, x=8, value=1),\n",
       " IntCell(y=1, x=9, value=1),\n",
       " IntCell(y=0, x=7, value=2),\n",
       " IntCell(y=1, x=8, value=2),\n",
       " IntCell(y=2, x=9, value=2),\n",
       " IntCell(y=0, x=6, value=3),\n",
       " IntCell(y=0, x=5, value=4),\n",
       " IntCell(y=1, x=6, value=4)]"
      ]
     },
     "execution_count": 9,
     "metadata": {},
     "output_type": "execute_result"
    }
   ],
   "source": [
    "basins[1].points"
   ]
  },
  {
   "cell_type": "code",
   "execution_count": 10,
   "id": "e36a15c0",
   "metadata": {
    "ExecuteTime": {
     "end_time": "2021-12-11T18:10:47.395281Z",
     "start_time": "2021-12-11T18:10:46.773426Z"
    }
   },
   "outputs": [
    {
     "data": {
      "text/plain": [
       "[<Basin start=y=0 x=1 value=1 points=3>,\n",
       " <Basin start=y=0 x=9 value=0 points=9>,\n",
       " <Basin start=y=4 x=6 value=5 points=9>,\n",
       " <Basin start=y=2 x=2 value=5 points=14>]"
      ]
     },
     "execution_count": 10,
     "metadata": {},
     "output_type": "execute_result"
    }
   ],
   "source": [
    "# Find the three largest Basins and multiply their size together\n",
    "sorted_basins = list(sorted(basins, key=lambda item: len(item.points)))\n",
    "sorted_basins"
   ]
  },
  {
   "cell_type": "code",
   "execution_count": 11,
   "id": "8eba8b19",
   "metadata": {
    "ExecuteTime": {
     "end_time": "2021-12-11T18:10:47.663775Z",
     "start_time": "2021-12-11T18:10:47.397679Z"
    }
   },
   "outputs": [
    {
     "data": {
      "text/plain": [
       "1134"
      ]
     },
     "execution_count": 11,
     "metadata": {},
     "output_type": "execute_result"
    }
   ],
   "source": [
    "import math\n",
    "\n",
    "math.prod([len(basin.points) for basin in sorted_basins[-3:]])"
   ]
  },
  {
   "cell_type": "code",
   "execution_count": null,
   "id": "fe890988",
   "metadata": {},
   "outputs": [],
   "source": []
  }
 ],
 "metadata": {
  "kernelspec": {
   "display_name": "Python 3 (ipykernel)",
   "language": "python",
   "name": "python3"
  },
  "language_info": {
   "codemirror_mode": {
    "name": "ipython",
    "version": 3
   },
   "file_extension": ".py",
   "mimetype": "text/x-python",
   "name": "python",
   "nbconvert_exporter": "python",
   "pygments_lexer": "ipython3",
   "version": "3.8.10"
  },
  "toc": {
   "base_numbering": 1,
   "nav_menu": {},
   "number_sections": true,
   "sideBar": true,
   "skip_h1_title": false,
   "title_cell": "Table of Contents",
   "title_sidebar": "Contents",
   "toc_cell": false,
   "toc_position": {},
   "toc_section_display": true,
   "toc_window_display": false
  }
 },
 "nbformat": 4,
 "nbformat_minor": 5
}
