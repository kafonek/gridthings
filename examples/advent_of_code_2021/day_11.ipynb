{
 "cells": [
  {
   "cell_type": "markdown",
   "id": "54b644b3",
   "metadata": {},
   "source": [
    "The [day 11 puzzle](https://adventofcode.com/2021/day/11) involves analyzing a grid to increment values on each turn and also when one value reaches past 9 and \"flashes\".\n",
    "\n",
    "     - First, each value increases by 1\n",
    "     - Then, any value that exceeds 9 \"flashes\", raising the value of all neighboring values by 1\n",
    "     - One value \"flashing\" another may cause it to exceed 9 and subsequently trigger more flashes\n",
    "     - A value can only flash once per turn\n",
    "     - On the next turn, any value that flashed is reset to 0\n",
    "     \n",
    "The first challenge is to count how many flashes happen by turn 100.  The second challenge is to observe when the flashes begin to synchronize and identify at what turn all values flash simultaneously.\n",
    "     "
   ]
  },
  {
   "cell_type": "code",
   "execution_count": 1,
   "id": "602e175c",
   "metadata": {
    "ExecuteTime": {
     "end_time": "2021-12-11T18:24:52.914157Z",
     "start_time": "2021-12-11T18:24:52.881996Z"
    }
   },
   "outputs": [],
   "source": [
    "import gridthings\n",
    "import pandas  # only for printing out the grid, not for analysis"
   ]
  },
  {
   "cell_type": "code",
   "execution_count": 2,
   "id": "f185f025",
   "metadata": {
    "ExecuteTime": {
     "end_time": "2021-12-11T18:24:53.127742Z",
     "start_time": "2021-12-11T18:24:52.916393Z"
    }
   },
   "outputs": [
    {
     "data": {
      "text/plain": [
       "<IntGrid shape=(10, 10)>"
      ]
     },
     "execution_count": 2,
     "metadata": {},
     "output_type": "execute_result"
    }
   ],
   "source": [
    "data = \"\"\"\n",
    "5483143223\n",
    "2745854711\n",
    "5264556173\n",
    "6141336146\n",
    "6357385478\n",
    "4167524645\n",
    "2176841721\n",
    "6882881134\n",
    "4846848554\n",
    "5283751526\n",
    "\"\"\"\n",
    "# Using a custom Cell class to both cast each value to int\n",
    "# and also make available a .has_flashed boolean on each cell\n",
    "class FlashCell(gridthings.IntCell):\n",
    "    has_flashed: bool = False\n",
    "\n",
    "\n",
    "grid = gridthings.IntGrid(data, cell_cls=FlashCell)\n",
    "grid"
   ]
  },
  {
   "cell_type": "code",
   "execution_count": 3,
   "id": "e05598d8",
   "metadata": {
    "ExecuteTime": {
     "end_time": "2021-12-11T18:24:53.351336Z",
     "start_time": "2021-12-11T18:24:53.129504Z"
    }
   },
   "outputs": [
    {
     "data": {
      "application/vnd.dataresource+json": {
       "data": [
        {
         "0": 5,
         "1": 4,
         "2": 8,
         "3": 3,
         "4": 1,
         "5": 4,
         "6": 3,
         "7": 2,
         "8": 2,
         "9": 3,
         "index": 0
        },
        {
         "0": 2,
         "1": 7,
         "2": 4,
         "3": 5,
         "4": 8,
         "5": 5,
         "6": 4,
         "7": 7,
         "8": 1,
         "9": 1,
         "index": 1
        },
        {
         "0": 5,
         "1": 2,
         "2": 6,
         "3": 4,
         "4": 5,
         "5": 5,
         "6": 6,
         "7": 1,
         "8": 7,
         "9": 3,
         "index": 2
        },
        {
         "0": 6,
         "1": 1,
         "2": 4,
         "3": 1,
         "4": 3,
         "5": 3,
         "6": 6,
         "7": 1,
         "8": 4,
         "9": 6,
         "index": 3
        },
        {
         "0": 6,
         "1": 3,
         "2": 5,
         "3": 7,
         "4": 3,
         "5": 8,
         "6": 5,
         "7": 4,
         "8": 7,
         "9": 8,
         "index": 4
        },
        {
         "0": 4,
         "1": 1,
         "2": 6,
         "3": 7,
         "4": 5,
         "5": 2,
         "6": 4,
         "7": 6,
         "8": 4,
         "9": 5,
         "index": 5
        },
        {
         "0": 2,
         "1": 1,
         "2": 7,
         "3": 6,
         "4": 8,
         "5": 4,
         "6": 1,
         "7": 7,
         "8": 2,
         "9": 1,
         "index": 6
        },
        {
         "0": 6,
         "1": 8,
         "2": 8,
         "3": 2,
         "4": 8,
         "5": 8,
         "6": 1,
         "7": 1,
         "8": 3,
         "9": 4,
         "index": 7
        },
        {
         "0": 4,
         "1": 8,
         "2": 4,
         "3": 6,
         "4": 8,
         "5": 4,
         "6": 8,
         "7": 5,
         "8": 5,
         "9": 4,
         "index": 8
        },
        {
         "0": 5,
         "1": 2,
         "2": 8,
         "3": 3,
         "4": 7,
         "5": 5,
         "6": 1,
         "7": 5,
         "8": 2,
         "9": 6,
         "index": 9
        }
       ],
       "schema": {
        "fields": [
         {
          "name": "index",
          "type": "integer"
         },
         {
          "name": 0,
          "type": "integer"
         },
         {
          "name": 1,
          "type": "integer"
         },
         {
          "name": 2,
          "type": "integer"
         },
         {
          "name": 3,
          "type": "integer"
         },
         {
          "name": 4,
          "type": "integer"
         },
         {
          "name": 5,
          "type": "integer"
         },
         {
          "name": 6,
          "type": "integer"
         },
         {
          "name": 7,
          "type": "integer"
         },
         {
          "name": 8,
          "type": "integer"
         },
         {
          "name": 9,
          "type": "integer"
         }
        ],
        "pandas_version": "0.20.0",
        "primaryKey": [
         "index"
        ]
       }
      },
      "text/html": [
       "<div>\n",
       "<style scoped>\n",
       "    .dataframe tbody tr th:only-of-type {\n",
       "        vertical-align: middle;\n",
       "    }\n",
       "\n",
       "    .dataframe tbody tr th {\n",
       "        vertical-align: top;\n",
       "    }\n",
       "\n",
       "    .dataframe thead th {\n",
       "        text-align: right;\n",
       "    }\n",
       "</style>\n",
       "<table border=\"1\" class=\"dataframe\">\n",
       "  <thead>\n",
       "    <tr style=\"text-align: right;\">\n",
       "      <th></th>\n",
       "      <th>0</th>\n",
       "      <th>1</th>\n",
       "      <th>2</th>\n",
       "      <th>3</th>\n",
       "      <th>4</th>\n",
       "      <th>5</th>\n",
       "      <th>6</th>\n",
       "      <th>7</th>\n",
       "      <th>8</th>\n",
       "      <th>9</th>\n",
       "    </tr>\n",
       "  </thead>\n",
       "  <tbody>\n",
       "    <tr>\n",
       "      <th>0</th>\n",
       "      <td>5</td>\n",
       "      <td>4</td>\n",
       "      <td>8</td>\n",
       "      <td>3</td>\n",
       "      <td>1</td>\n",
       "      <td>4</td>\n",
       "      <td>3</td>\n",
       "      <td>2</td>\n",
       "      <td>2</td>\n",
       "      <td>3</td>\n",
       "    </tr>\n",
       "    <tr>\n",
       "      <th>1</th>\n",
       "      <td>2</td>\n",
       "      <td>7</td>\n",
       "      <td>4</td>\n",
       "      <td>5</td>\n",
       "      <td>8</td>\n",
       "      <td>5</td>\n",
       "      <td>4</td>\n",
       "      <td>7</td>\n",
       "      <td>1</td>\n",
       "      <td>1</td>\n",
       "    </tr>\n",
       "    <tr>\n",
       "      <th>2</th>\n",
       "      <td>5</td>\n",
       "      <td>2</td>\n",
       "      <td>6</td>\n",
       "      <td>4</td>\n",
       "      <td>5</td>\n",
       "      <td>5</td>\n",
       "      <td>6</td>\n",
       "      <td>1</td>\n",
       "      <td>7</td>\n",
       "      <td>3</td>\n",
       "    </tr>\n",
       "    <tr>\n",
       "      <th>3</th>\n",
       "      <td>6</td>\n",
       "      <td>1</td>\n",
       "      <td>4</td>\n",
       "      <td>1</td>\n",
       "      <td>3</td>\n",
       "      <td>3</td>\n",
       "      <td>6</td>\n",
       "      <td>1</td>\n",
       "      <td>4</td>\n",
       "      <td>6</td>\n",
       "    </tr>\n",
       "    <tr>\n",
       "      <th>4</th>\n",
       "      <td>6</td>\n",
       "      <td>3</td>\n",
       "      <td>5</td>\n",
       "      <td>7</td>\n",
       "      <td>3</td>\n",
       "      <td>8</td>\n",
       "      <td>5</td>\n",
       "      <td>4</td>\n",
       "      <td>7</td>\n",
       "      <td>8</td>\n",
       "    </tr>\n",
       "    <tr>\n",
       "      <th>5</th>\n",
       "      <td>4</td>\n",
       "      <td>1</td>\n",
       "      <td>6</td>\n",
       "      <td>7</td>\n",
       "      <td>5</td>\n",
       "      <td>2</td>\n",
       "      <td>4</td>\n",
       "      <td>6</td>\n",
       "      <td>4</td>\n",
       "      <td>5</td>\n",
       "    </tr>\n",
       "    <tr>\n",
       "      <th>6</th>\n",
       "      <td>2</td>\n",
       "      <td>1</td>\n",
       "      <td>7</td>\n",
       "      <td>6</td>\n",
       "      <td>8</td>\n",
       "      <td>4</td>\n",
       "      <td>1</td>\n",
       "      <td>7</td>\n",
       "      <td>2</td>\n",
       "      <td>1</td>\n",
       "    </tr>\n",
       "    <tr>\n",
       "      <th>7</th>\n",
       "      <td>6</td>\n",
       "      <td>8</td>\n",
       "      <td>8</td>\n",
       "      <td>2</td>\n",
       "      <td>8</td>\n",
       "      <td>8</td>\n",
       "      <td>1</td>\n",
       "      <td>1</td>\n",
       "      <td>3</td>\n",
       "      <td>4</td>\n",
       "    </tr>\n",
       "    <tr>\n",
       "      <th>8</th>\n",
       "      <td>4</td>\n",
       "      <td>8</td>\n",
       "      <td>4</td>\n",
       "      <td>6</td>\n",
       "      <td>8</td>\n",
       "      <td>4</td>\n",
       "      <td>8</td>\n",
       "      <td>5</td>\n",
       "      <td>5</td>\n",
       "      <td>4</td>\n",
       "    </tr>\n",
       "    <tr>\n",
       "      <th>9</th>\n",
       "      <td>5</td>\n",
       "      <td>2</td>\n",
       "      <td>8</td>\n",
       "      <td>3</td>\n",
       "      <td>7</td>\n",
       "      <td>5</td>\n",
       "      <td>1</td>\n",
       "      <td>5</td>\n",
       "      <td>2</td>\n",
       "      <td>6</td>\n",
       "    </tr>\n",
       "  </tbody>\n",
       "</table>\n",
       "</div>"
      ],
      "text/plain": [
       "   0  1  2  3  4  5  6  7  8  9\n",
       "0  5  4  8  3  1  4  3  2  2  3\n",
       "1  2  7  4  5  8  5  4  7  1  1\n",
       "2  5  2  6  4  5  5  6  1  7  3\n",
       "3  6  1  4  1  3  3  6  1  4  6\n",
       "4  6  3  5  7  3  8  5  4  7  8\n",
       "5  4  1  6  7  5  2  4  6  4  5\n",
       "6  2  1  7  6  8  4  1  7  2  1\n",
       "7  6  8  8  2  8  8  1  1  3  4\n",
       "8  4  8  4  6  8  4  8  5  5  4\n",
       "9  5  2  8  3  7  5  1  5  2  6"
      ]
     },
     "execution_count": 3,
     "metadata": {},
     "output_type": "execute_result"
    }
   ],
   "source": [
    "pandas.DataFrame(grid.values())"
   ]
  },
  {
   "cell_type": "code",
   "execution_count": 4,
   "id": "f137c623",
   "metadata": {
    "ExecuteTime": {
     "end_time": "2021-12-11T18:24:53.584571Z",
     "start_time": "2021-12-11T18:24:53.353845Z"
    }
   },
   "outputs": [
    {
     "data": {
      "text/plain": [
       "<__main__.Solver at 0x7f37d712ae20>"
      ]
     },
     "execution_count": 4,
     "metadata": {},
     "output_type": "execute_result"
    }
   ],
   "source": [
    "# As noted above, there's three distinct parts to each \"turn\" in this puzzle\n",
    "# 1. Increment all values by 1\n",
    "# 2. Handle flashes (1 flash/turn, keep track of total flashes)\n",
    "#   2a. All cells that exceeded value 9 in step 1 flash\n",
    "#   2b. Increment values on neighbors of those flashed cells\n",
    "#   2c. Check if those new increments caused new flashes\n",
    "#   2d. repeat until no new flashes happen\n",
    "# 3. Reset any flashed cell value to 0, this completes a turn\n",
    "\n",
    "\n",
    "class Solver:\n",
    "    def __init__(self, data: str):\n",
    "        self.grid = gridthings.Grid(data, cell_cls=FlashCell)\n",
    "        self.flashes = 0\n",
    "        self.turns = 0\n",
    "\n",
    "    def step(self):\n",
    "        # 1. increment values\n",
    "        for cell in self.grid.flatten():\n",
    "            cell.value += 1\n",
    "        # 2. handle flashes\n",
    "        while True:\n",
    "            to_flash = []\n",
    "            for cell in self.grid.flatten():\n",
    "                if cell.value > 9 and not cell.has_flashed:\n",
    "                    to_flash.append(cell)\n",
    "            if to_flash:\n",
    "                for cell in to_flash:\n",
    "                    self.flash(cell)\n",
    "            else:\n",
    "                break\n",
    "        # 3. Reset flashed cells\n",
    "        self.reset_flashes()\n",
    "        self.turns += 1\n",
    "\n",
    "    def flash(self, cell):\n",
    "        self.flashes += 1\n",
    "        cell.has_flashed = True\n",
    "        for neighbor in self.grid.peek_all(cell.y, cell.x):\n",
    "            if isinstance(neighbor, FlashCell):\n",
    "                neighbor.value += 1\n",
    "\n",
    "    def reset_flashes(self):\n",
    "        for cell in self.grid.flatten():\n",
    "            if cell.has_flashed:\n",
    "                cell.has_flashed = False\n",
    "                cell.value = 0\n",
    "\n",
    "\n",
    "solver = Solver(data)\n",
    "solver"
   ]
  },
  {
   "cell_type": "code",
   "execution_count": 5,
   "id": "dd551703",
   "metadata": {
    "ExecuteTime": {
     "end_time": "2021-12-11T18:24:54.748865Z",
     "start_time": "2021-12-11T18:24:53.585991Z"
    }
   },
   "outputs": [
    {
     "data": {
      "application/vnd.dataresource+json": {
       "data": [
        {
         "0": 5,
         "1": 4,
         "2": 8,
         "3": 3,
         "4": 1,
         "5": 4,
         "6": 3,
         "7": 2,
         "8": 2,
         "9": 3,
         "index": 0
        },
        {
         "0": 2,
         "1": 7,
         "2": 4,
         "3": 5,
         "4": 8,
         "5": 5,
         "6": 4,
         "7": 7,
         "8": 1,
         "9": 1,
         "index": 1
        },
        {
         "0": 5,
         "1": 2,
         "2": 6,
         "3": 4,
         "4": 5,
         "5": 5,
         "6": 6,
         "7": 1,
         "8": 7,
         "9": 3,
         "index": 2
        },
        {
         "0": 6,
         "1": 1,
         "2": 4,
         "3": 1,
         "4": 3,
         "5": 3,
         "6": 6,
         "7": 1,
         "8": 4,
         "9": 6,
         "index": 3
        },
        {
         "0": 6,
         "1": 3,
         "2": 5,
         "3": 7,
         "4": 3,
         "5": 8,
         "6": 5,
         "7": 4,
         "8": 7,
         "9": 8,
         "index": 4
        },
        {
         "0": 4,
         "1": 1,
         "2": 6,
         "3": 7,
         "4": 5,
         "5": 2,
         "6": 4,
         "7": 6,
         "8": 4,
         "9": 5,
         "index": 5
        },
        {
         "0": 2,
         "1": 1,
         "2": 7,
         "3": 6,
         "4": 8,
         "5": 4,
         "6": 1,
         "7": 7,
         "8": 2,
         "9": 1,
         "index": 6
        },
        {
         "0": 6,
         "1": 8,
         "2": 8,
         "3": 2,
         "4": 8,
         "5": 8,
         "6": 1,
         "7": 1,
         "8": 3,
         "9": 4,
         "index": 7
        },
        {
         "0": 4,
         "1": 8,
         "2": 4,
         "3": 6,
         "4": 8,
         "5": 4,
         "6": 8,
         "7": 5,
         "8": 5,
         "9": 4,
         "index": 8
        },
        {
         "0": 5,
         "1": 2,
         "2": 8,
         "3": 3,
         "4": 7,
         "5": 5,
         "6": 1,
         "7": 5,
         "8": 2,
         "9": 6,
         "index": 9
        }
       ],
       "schema": {
        "fields": [
         {
          "name": "index",
          "type": "integer"
         },
         {
          "name": 0,
          "type": "integer"
         },
         {
          "name": 1,
          "type": "integer"
         },
         {
          "name": 2,
          "type": "integer"
         },
         {
          "name": 3,
          "type": "integer"
         },
         {
          "name": 4,
          "type": "integer"
         },
         {
          "name": 5,
          "type": "integer"
         },
         {
          "name": 6,
          "type": "integer"
         },
         {
          "name": 7,
          "type": "integer"
         },
         {
          "name": 8,
          "type": "integer"
         },
         {
          "name": 9,
          "type": "integer"
         }
        ],
        "pandas_version": "0.20.0",
        "primaryKey": [
         "index"
        ]
       }
      },
      "text/html": [
       "<div>\n",
       "<style scoped>\n",
       "    .dataframe tbody tr th:only-of-type {\n",
       "        vertical-align: middle;\n",
       "    }\n",
       "\n",
       "    .dataframe tbody tr th {\n",
       "        vertical-align: top;\n",
       "    }\n",
       "\n",
       "    .dataframe thead th {\n",
       "        text-align: right;\n",
       "    }\n",
       "</style>\n",
       "<table border=\"1\" class=\"dataframe\">\n",
       "  <thead>\n",
       "    <tr style=\"text-align: right;\">\n",
       "      <th></th>\n",
       "      <th>0</th>\n",
       "      <th>1</th>\n",
       "      <th>2</th>\n",
       "      <th>3</th>\n",
       "      <th>4</th>\n",
       "      <th>5</th>\n",
       "      <th>6</th>\n",
       "      <th>7</th>\n",
       "      <th>8</th>\n",
       "      <th>9</th>\n",
       "    </tr>\n",
       "  </thead>\n",
       "  <tbody>\n",
       "    <tr>\n",
       "      <th>0</th>\n",
       "      <td>5</td>\n",
       "      <td>4</td>\n",
       "      <td>8</td>\n",
       "      <td>3</td>\n",
       "      <td>1</td>\n",
       "      <td>4</td>\n",
       "      <td>3</td>\n",
       "      <td>2</td>\n",
       "      <td>2</td>\n",
       "      <td>3</td>\n",
       "    </tr>\n",
       "    <tr>\n",
       "      <th>1</th>\n",
       "      <td>2</td>\n",
       "      <td>7</td>\n",
       "      <td>4</td>\n",
       "      <td>5</td>\n",
       "      <td>8</td>\n",
       "      <td>5</td>\n",
       "      <td>4</td>\n",
       "      <td>7</td>\n",
       "      <td>1</td>\n",
       "      <td>1</td>\n",
       "    </tr>\n",
       "    <tr>\n",
       "      <th>2</th>\n",
       "      <td>5</td>\n",
       "      <td>2</td>\n",
       "      <td>6</td>\n",
       "      <td>4</td>\n",
       "      <td>5</td>\n",
       "      <td>5</td>\n",
       "      <td>6</td>\n",
       "      <td>1</td>\n",
       "      <td>7</td>\n",
       "      <td>3</td>\n",
       "    </tr>\n",
       "    <tr>\n",
       "      <th>3</th>\n",
       "      <td>6</td>\n",
       "      <td>1</td>\n",
       "      <td>4</td>\n",
       "      <td>1</td>\n",
       "      <td>3</td>\n",
       "      <td>3</td>\n",
       "      <td>6</td>\n",
       "      <td>1</td>\n",
       "      <td>4</td>\n",
       "      <td>6</td>\n",
       "    </tr>\n",
       "    <tr>\n",
       "      <th>4</th>\n",
       "      <td>6</td>\n",
       "      <td>3</td>\n",
       "      <td>5</td>\n",
       "      <td>7</td>\n",
       "      <td>3</td>\n",
       "      <td>8</td>\n",
       "      <td>5</td>\n",
       "      <td>4</td>\n",
       "      <td>7</td>\n",
       "      <td>8</td>\n",
       "    </tr>\n",
       "    <tr>\n",
       "      <th>5</th>\n",
       "      <td>4</td>\n",
       "      <td>1</td>\n",
       "      <td>6</td>\n",
       "      <td>7</td>\n",
       "      <td>5</td>\n",
       "      <td>2</td>\n",
       "      <td>4</td>\n",
       "      <td>6</td>\n",
       "      <td>4</td>\n",
       "      <td>5</td>\n",
       "    </tr>\n",
       "    <tr>\n",
       "      <th>6</th>\n",
       "      <td>2</td>\n",
       "      <td>1</td>\n",
       "      <td>7</td>\n",
       "      <td>6</td>\n",
       "      <td>8</td>\n",
       "      <td>4</td>\n",
       "      <td>1</td>\n",
       "      <td>7</td>\n",
       "      <td>2</td>\n",
       "      <td>1</td>\n",
       "    </tr>\n",
       "    <tr>\n",
       "      <th>7</th>\n",
       "      <td>6</td>\n",
       "      <td>8</td>\n",
       "      <td>8</td>\n",
       "      <td>2</td>\n",
       "      <td>8</td>\n",
       "      <td>8</td>\n",
       "      <td>1</td>\n",
       "      <td>1</td>\n",
       "      <td>3</td>\n",
       "      <td>4</td>\n",
       "    </tr>\n",
       "    <tr>\n",
       "      <th>8</th>\n",
       "      <td>4</td>\n",
       "      <td>8</td>\n",
       "      <td>4</td>\n",
       "      <td>6</td>\n",
       "      <td>8</td>\n",
       "      <td>4</td>\n",
       "      <td>8</td>\n",
       "      <td>5</td>\n",
       "      <td>5</td>\n",
       "      <td>4</td>\n",
       "    </tr>\n",
       "    <tr>\n",
       "      <th>9</th>\n",
       "      <td>5</td>\n",
       "      <td>2</td>\n",
       "      <td>8</td>\n",
       "      <td>3</td>\n",
       "      <td>7</td>\n",
       "      <td>5</td>\n",
       "      <td>1</td>\n",
       "      <td>5</td>\n",
       "      <td>2</td>\n",
       "      <td>6</td>\n",
       "    </tr>\n",
       "  </tbody>\n",
       "</table>\n",
       "</div>"
      ],
      "text/plain": [
       "   0  1  2  3  4  5  6  7  8  9\n",
       "0  5  4  8  3  1  4  3  2  2  3\n",
       "1  2  7  4  5  8  5  4  7  1  1\n",
       "2  5  2  6  4  5  5  6  1  7  3\n",
       "3  6  1  4  1  3  3  6  1  4  6\n",
       "4  6  3  5  7  3  8  5  4  7  8\n",
       "5  4  1  6  7  5  2  4  6  4  5\n",
       "6  2  1  7  6  8  4  1  7  2  1\n",
       "7  6  8  8  2  8  8  1  1  3  4\n",
       "8  4  8  4  6  8  4  8  5  5  4\n",
       "9  5  2  8  3  7  5  1  5  2  6"
      ]
     },
     "execution_count": 5,
     "metadata": {},
     "output_type": "execute_result"
    }
   ],
   "source": [
    "# Reminder of what the grid looks like initially\n",
    "pandas.DataFrame(solver.grid.values())"
   ]
  },
  {
   "cell_type": "code",
   "execution_count": 6,
   "id": "337832e3",
   "metadata": {
    "ExecuteTime": {
     "end_time": "2021-12-11T18:24:55.167037Z",
     "start_time": "2021-12-11T18:24:54.750789Z"
    }
   },
   "outputs": [
    {
     "data": {
      "application/vnd.dataresource+json": {
       "data": [
        {
         "0": 6,
         "1": 5,
         "2": 9,
         "3": 4,
         "4": 2,
         "5": 5,
         "6": 4,
         "7": 3,
         "8": 3,
         "9": 4,
         "index": 0
        },
        {
         "0": 3,
         "1": 8,
         "2": 5,
         "3": 6,
         "4": 9,
         "5": 6,
         "6": 5,
         "7": 8,
         "8": 2,
         "9": 2,
         "index": 1
        },
        {
         "0": 6,
         "1": 3,
         "2": 7,
         "3": 5,
         "4": 6,
         "5": 6,
         "6": 7,
         "7": 2,
         "8": 8,
         "9": 4,
         "index": 2
        },
        {
         "0": 7,
         "1": 2,
         "2": 5,
         "3": 2,
         "4": 4,
         "5": 4,
         "6": 7,
         "7": 2,
         "8": 5,
         "9": 7,
         "index": 3
        },
        {
         "0": 7,
         "1": 4,
         "2": 6,
         "3": 8,
         "4": 4,
         "5": 9,
         "6": 6,
         "7": 5,
         "8": 8,
         "9": 9,
         "index": 4
        },
        {
         "0": 5,
         "1": 2,
         "2": 7,
         "3": 8,
         "4": 6,
         "5": 3,
         "6": 5,
         "7": 7,
         "8": 5,
         "9": 6,
         "index": 5
        },
        {
         "0": 3,
         "1": 2,
         "2": 8,
         "3": 7,
         "4": 9,
         "5": 5,
         "6": 2,
         "7": 8,
         "8": 3,
         "9": 2,
         "index": 6
        },
        {
         "0": 7,
         "1": 9,
         "2": 9,
         "3": 3,
         "4": 9,
         "5": 9,
         "6": 2,
         "7": 2,
         "8": 4,
         "9": 5,
         "index": 7
        },
        {
         "0": 5,
         "1": 9,
         "2": 5,
         "3": 7,
         "4": 9,
         "5": 5,
         "6": 9,
         "7": 6,
         "8": 6,
         "9": 5,
         "index": 8
        },
        {
         "0": 6,
         "1": 3,
         "2": 9,
         "3": 4,
         "4": 8,
         "5": 6,
         "6": 2,
         "7": 6,
         "8": 3,
         "9": 7,
         "index": 9
        }
       ],
       "schema": {
        "fields": [
         {
          "name": "index",
          "type": "integer"
         },
         {
          "name": 0,
          "type": "integer"
         },
         {
          "name": 1,
          "type": "integer"
         },
         {
          "name": 2,
          "type": "integer"
         },
         {
          "name": 3,
          "type": "integer"
         },
         {
          "name": 4,
          "type": "integer"
         },
         {
          "name": 5,
          "type": "integer"
         },
         {
          "name": 6,
          "type": "integer"
         },
         {
          "name": 7,
          "type": "integer"
         },
         {
          "name": 8,
          "type": "integer"
         },
         {
          "name": 9,
          "type": "integer"
         }
        ],
        "pandas_version": "0.20.0",
        "primaryKey": [
         "index"
        ]
       }
      },
      "text/html": [
       "<div>\n",
       "<style scoped>\n",
       "    .dataframe tbody tr th:only-of-type {\n",
       "        vertical-align: middle;\n",
       "    }\n",
       "\n",
       "    .dataframe tbody tr th {\n",
       "        vertical-align: top;\n",
       "    }\n",
       "\n",
       "    .dataframe thead th {\n",
       "        text-align: right;\n",
       "    }\n",
       "</style>\n",
       "<table border=\"1\" class=\"dataframe\">\n",
       "  <thead>\n",
       "    <tr style=\"text-align: right;\">\n",
       "      <th></th>\n",
       "      <th>0</th>\n",
       "      <th>1</th>\n",
       "      <th>2</th>\n",
       "      <th>3</th>\n",
       "      <th>4</th>\n",
       "      <th>5</th>\n",
       "      <th>6</th>\n",
       "      <th>7</th>\n",
       "      <th>8</th>\n",
       "      <th>9</th>\n",
       "    </tr>\n",
       "  </thead>\n",
       "  <tbody>\n",
       "    <tr>\n",
       "      <th>0</th>\n",
       "      <td>6</td>\n",
       "      <td>5</td>\n",
       "      <td>9</td>\n",
       "      <td>4</td>\n",
       "      <td>2</td>\n",
       "      <td>5</td>\n",
       "      <td>4</td>\n",
       "      <td>3</td>\n",
       "      <td>3</td>\n",
       "      <td>4</td>\n",
       "    </tr>\n",
       "    <tr>\n",
       "      <th>1</th>\n",
       "      <td>3</td>\n",
       "      <td>8</td>\n",
       "      <td>5</td>\n",
       "      <td>6</td>\n",
       "      <td>9</td>\n",
       "      <td>6</td>\n",
       "      <td>5</td>\n",
       "      <td>8</td>\n",
       "      <td>2</td>\n",
       "      <td>2</td>\n",
       "    </tr>\n",
       "    <tr>\n",
       "      <th>2</th>\n",
       "      <td>6</td>\n",
       "      <td>3</td>\n",
       "      <td>7</td>\n",
       "      <td>5</td>\n",
       "      <td>6</td>\n",
       "      <td>6</td>\n",
       "      <td>7</td>\n",
       "      <td>2</td>\n",
       "      <td>8</td>\n",
       "      <td>4</td>\n",
       "    </tr>\n",
       "    <tr>\n",
       "      <th>3</th>\n",
       "      <td>7</td>\n",
       "      <td>2</td>\n",
       "      <td>5</td>\n",
       "      <td>2</td>\n",
       "      <td>4</td>\n",
       "      <td>4</td>\n",
       "      <td>7</td>\n",
       "      <td>2</td>\n",
       "      <td>5</td>\n",
       "      <td>7</td>\n",
       "    </tr>\n",
       "    <tr>\n",
       "      <th>4</th>\n",
       "      <td>7</td>\n",
       "      <td>4</td>\n",
       "      <td>6</td>\n",
       "      <td>8</td>\n",
       "      <td>4</td>\n",
       "      <td>9</td>\n",
       "      <td>6</td>\n",
       "      <td>5</td>\n",
       "      <td>8</td>\n",
       "      <td>9</td>\n",
       "    </tr>\n",
       "    <tr>\n",
       "      <th>5</th>\n",
       "      <td>5</td>\n",
       "      <td>2</td>\n",
       "      <td>7</td>\n",
       "      <td>8</td>\n",
       "      <td>6</td>\n",
       "      <td>3</td>\n",
       "      <td>5</td>\n",
       "      <td>7</td>\n",
       "      <td>5</td>\n",
       "      <td>6</td>\n",
       "    </tr>\n",
       "    <tr>\n",
       "      <th>6</th>\n",
       "      <td>3</td>\n",
       "      <td>2</td>\n",
       "      <td>8</td>\n",
       "      <td>7</td>\n",
       "      <td>9</td>\n",
       "      <td>5</td>\n",
       "      <td>2</td>\n",
       "      <td>8</td>\n",
       "      <td>3</td>\n",
       "      <td>2</td>\n",
       "    </tr>\n",
       "    <tr>\n",
       "      <th>7</th>\n",
       "      <td>7</td>\n",
       "      <td>9</td>\n",
       "      <td>9</td>\n",
       "      <td>3</td>\n",
       "      <td>9</td>\n",
       "      <td>9</td>\n",
       "      <td>2</td>\n",
       "      <td>2</td>\n",
       "      <td>4</td>\n",
       "      <td>5</td>\n",
       "    </tr>\n",
       "    <tr>\n",
       "      <th>8</th>\n",
       "      <td>5</td>\n",
       "      <td>9</td>\n",
       "      <td>5</td>\n",
       "      <td>7</td>\n",
       "      <td>9</td>\n",
       "      <td>5</td>\n",
       "      <td>9</td>\n",
       "      <td>6</td>\n",
       "      <td>6</td>\n",
       "      <td>5</td>\n",
       "    </tr>\n",
       "    <tr>\n",
       "      <th>9</th>\n",
       "      <td>6</td>\n",
       "      <td>3</td>\n",
       "      <td>9</td>\n",
       "      <td>4</td>\n",
       "      <td>8</td>\n",
       "      <td>6</td>\n",
       "      <td>2</td>\n",
       "      <td>6</td>\n",
       "      <td>3</td>\n",
       "      <td>7</td>\n",
       "    </tr>\n",
       "  </tbody>\n",
       "</table>\n",
       "</div>"
      ],
      "text/plain": [
       "   0  1  2  3  4  5  6  7  8  9\n",
       "0  6  5  9  4  2  5  4  3  3  4\n",
       "1  3  8  5  6  9  6  5  8  2  2\n",
       "2  6  3  7  5  6  6  7  2  8  4\n",
       "3  7  2  5  2  4  4  7  2  5  7\n",
       "4  7  4  6  8  4  9  6  5  8  9\n",
       "5  5  2  7  8  6  3  5  7  5  6\n",
       "6  3  2  8  7  9  5  2  8  3  2\n",
       "7  7  9  9  3  9  9  2  2  4  5\n",
       "8  5  9  5  7  9  5  9  6  6  5\n",
       "9  6  3  9  4  8  6  2  6  3  7"
      ]
     },
     "execution_count": 6,
     "metadata": {},
     "output_type": "execute_result"
    }
   ],
   "source": [
    "# After one step -- no flashes here\n",
    "solver.step()\n",
    "pandas.DataFrame(solver.grid.values())"
   ]
  },
  {
   "cell_type": "code",
   "execution_count": 7,
   "id": "734c5501",
   "metadata": {
    "ExecuteTime": {
     "end_time": "2021-12-11T18:24:55.958480Z",
     "start_time": "2021-12-11T18:24:55.169808Z"
    }
   },
   "outputs": [
    {
     "data": {
      "application/vnd.dataresource+json": {
       "data": [
        {
         "0": 8,
         "1": 8,
         "2": 0,
         "3": 7,
         "4": 4,
         "5": 7,
         "6": 6,
         "7": 5,
         "8": 5,
         "9": 5,
         "index": 0
        },
        {
         "0": 5,
         "1": 0,
         "2": 8,
         "3": 9,
         "4": 0,
         "5": 8,
         "6": 7,
         "7": 0,
         "8": 5,
         "9": 4,
         "index": 1
        },
        {
         "0": 8,
         "1": 5,
         "2": 9,
         "3": 7,
         "4": 8,
         "5": 8,
         "6": 9,
         "7": 6,
         "8": 0,
         "9": 8,
         "index": 2
        },
        {
         "0": 8,
         "1": 4,
         "2": 8,
         "3": 5,
         "4": 7,
         "5": 6,
         "6": 9,
         "7": 6,
         "8": 0,
         "9": 0,
         "index": 3
        },
        {
         "0": 8,
         "1": 7,
         "2": 0,
         "3": 0,
         "4": 9,
         "5": 0,
         "6": 8,
         "7": 8,
         "8": 0,
         "9": 0,
         "index": 4
        },
        {
         "0": 6,
         "1": 6,
         "2": 0,
         "3": 0,
         "4": 0,
         "5": 8,
         "6": 8,
         "7": 9,
         "8": 8,
         "9": 9,
         "index": 5
        },
        {
         "0": 6,
         "1": 8,
         "2": 0,
         "3": 0,
         "4": 0,
         "5": 0,
         "6": 5,
         "7": 9,
         "8": 4,
         "9": 3,
         "index": 6
        },
        {
         "0": 0,
         "1": 0,
         "2": 0,
         "3": 0,
         "4": 0,
         "5": 0,
         "6": 7,
         "7": 4,
         "8": 5,
         "9": 6,
         "index": 7
        },
        {
         "0": 9,
         "1": 0,
         "2": 0,
         "3": 0,
         "4": 0,
         "5": 0,
         "6": 0,
         "7": 8,
         "8": 7,
         "9": 6,
         "index": 8
        },
        {
         "0": 8,
         "1": 7,
         "2": 0,
         "3": 0,
         "4": 0,
         "5": 0,
         "6": 6,
         "7": 8,
         "8": 4,
         "9": 8,
         "index": 9
        }
       ],
       "schema": {
        "fields": [
         {
          "name": "index",
          "type": "integer"
         },
         {
          "name": 0,
          "type": "integer"
         },
         {
          "name": 1,
          "type": "integer"
         },
         {
          "name": 2,
          "type": "integer"
         },
         {
          "name": 3,
          "type": "integer"
         },
         {
          "name": 4,
          "type": "integer"
         },
         {
          "name": 5,
          "type": "integer"
         },
         {
          "name": 6,
          "type": "integer"
         },
         {
          "name": 7,
          "type": "integer"
         },
         {
          "name": 8,
          "type": "integer"
         },
         {
          "name": 9,
          "type": "integer"
         }
        ],
        "pandas_version": "0.20.0",
        "primaryKey": [
         "index"
        ]
       }
      },
      "text/html": [
       "<div>\n",
       "<style scoped>\n",
       "    .dataframe tbody tr th:only-of-type {\n",
       "        vertical-align: middle;\n",
       "    }\n",
       "\n",
       "    .dataframe tbody tr th {\n",
       "        vertical-align: top;\n",
       "    }\n",
       "\n",
       "    .dataframe thead th {\n",
       "        text-align: right;\n",
       "    }\n",
       "</style>\n",
       "<table border=\"1\" class=\"dataframe\">\n",
       "  <thead>\n",
       "    <tr style=\"text-align: right;\">\n",
       "      <th></th>\n",
       "      <th>0</th>\n",
       "      <th>1</th>\n",
       "      <th>2</th>\n",
       "      <th>3</th>\n",
       "      <th>4</th>\n",
       "      <th>5</th>\n",
       "      <th>6</th>\n",
       "      <th>7</th>\n",
       "      <th>8</th>\n",
       "      <th>9</th>\n",
       "    </tr>\n",
       "  </thead>\n",
       "  <tbody>\n",
       "    <tr>\n",
       "      <th>0</th>\n",
       "      <td>8</td>\n",
       "      <td>8</td>\n",
       "      <td>0</td>\n",
       "      <td>7</td>\n",
       "      <td>4</td>\n",
       "      <td>7</td>\n",
       "      <td>6</td>\n",
       "      <td>5</td>\n",
       "      <td>5</td>\n",
       "      <td>5</td>\n",
       "    </tr>\n",
       "    <tr>\n",
       "      <th>1</th>\n",
       "      <td>5</td>\n",
       "      <td>0</td>\n",
       "      <td>8</td>\n",
       "      <td>9</td>\n",
       "      <td>0</td>\n",
       "      <td>8</td>\n",
       "      <td>7</td>\n",
       "      <td>0</td>\n",
       "      <td>5</td>\n",
       "      <td>4</td>\n",
       "    </tr>\n",
       "    <tr>\n",
       "      <th>2</th>\n",
       "      <td>8</td>\n",
       "      <td>5</td>\n",
       "      <td>9</td>\n",
       "      <td>7</td>\n",
       "      <td>8</td>\n",
       "      <td>8</td>\n",
       "      <td>9</td>\n",
       "      <td>6</td>\n",
       "      <td>0</td>\n",
       "      <td>8</td>\n",
       "    </tr>\n",
       "    <tr>\n",
       "      <th>3</th>\n",
       "      <td>8</td>\n",
       "      <td>4</td>\n",
       "      <td>8</td>\n",
       "      <td>5</td>\n",
       "      <td>7</td>\n",
       "      <td>6</td>\n",
       "      <td>9</td>\n",
       "      <td>6</td>\n",
       "      <td>0</td>\n",
       "      <td>0</td>\n",
       "    </tr>\n",
       "    <tr>\n",
       "      <th>4</th>\n",
       "      <td>8</td>\n",
       "      <td>7</td>\n",
       "      <td>0</td>\n",
       "      <td>0</td>\n",
       "      <td>9</td>\n",
       "      <td>0</td>\n",
       "      <td>8</td>\n",
       "      <td>8</td>\n",
       "      <td>0</td>\n",
       "      <td>0</td>\n",
       "    </tr>\n",
       "    <tr>\n",
       "      <th>5</th>\n",
       "      <td>6</td>\n",
       "      <td>6</td>\n",
       "      <td>0</td>\n",
       "      <td>0</td>\n",
       "      <td>0</td>\n",
       "      <td>8</td>\n",
       "      <td>8</td>\n",
       "      <td>9</td>\n",
       "      <td>8</td>\n",
       "      <td>9</td>\n",
       "    </tr>\n",
       "    <tr>\n",
       "      <th>6</th>\n",
       "      <td>6</td>\n",
       "      <td>8</td>\n",
       "      <td>0</td>\n",
       "      <td>0</td>\n",
       "      <td>0</td>\n",
       "      <td>0</td>\n",
       "      <td>5</td>\n",
       "      <td>9</td>\n",
       "      <td>4</td>\n",
       "      <td>3</td>\n",
       "    </tr>\n",
       "    <tr>\n",
       "      <th>7</th>\n",
       "      <td>0</td>\n",
       "      <td>0</td>\n",
       "      <td>0</td>\n",
       "      <td>0</td>\n",
       "      <td>0</td>\n",
       "      <td>0</td>\n",
       "      <td>7</td>\n",
       "      <td>4</td>\n",
       "      <td>5</td>\n",
       "      <td>6</td>\n",
       "    </tr>\n",
       "    <tr>\n",
       "      <th>8</th>\n",
       "      <td>9</td>\n",
       "      <td>0</td>\n",
       "      <td>0</td>\n",
       "      <td>0</td>\n",
       "      <td>0</td>\n",
       "      <td>0</td>\n",
       "      <td>0</td>\n",
       "      <td>8</td>\n",
       "      <td>7</td>\n",
       "      <td>6</td>\n",
       "    </tr>\n",
       "    <tr>\n",
       "      <th>9</th>\n",
       "      <td>8</td>\n",
       "      <td>7</td>\n",
       "      <td>0</td>\n",
       "      <td>0</td>\n",
       "      <td>0</td>\n",
       "      <td>0</td>\n",
       "      <td>6</td>\n",
       "      <td>8</td>\n",
       "      <td>4</td>\n",
       "      <td>8</td>\n",
       "    </tr>\n",
       "  </tbody>\n",
       "</table>\n",
       "</div>"
      ],
      "text/plain": [
       "   0  1  2  3  4  5  6  7  8  9\n",
       "0  8  8  0  7  4  7  6  5  5  5\n",
       "1  5  0  8  9  0  8  7  0  5  4\n",
       "2  8  5  9  7  8  8  9  6  0  8\n",
       "3  8  4  8  5  7  6  9  6  0  0\n",
       "4  8  7  0  0  9  0  8  8  0  0\n",
       "5  6  6  0  0  0  8  8  9  8  9\n",
       "6  6  8  0  0  0  0  5  9  4  3\n",
       "7  0  0  0  0  0  0  7  4  5  6\n",
       "8  9  0  0  0  0  0  0  8  7  6\n",
       "9  8  7  0  0  0  0  6  8  4  8"
      ]
     },
     "execution_count": 7,
     "metadata": {},
     "output_type": "execute_result"
    }
   ],
   "source": [
    "# In the next step, flashes begin happening\n",
    "solver.step()\n",
    "pandas.DataFrame(solver.grid.values())"
   ]
  },
  {
   "cell_type": "code",
   "execution_count": 8,
   "id": "ef410c17",
   "metadata": {
    "ExecuteTime": {
     "end_time": "2021-12-11T18:24:56.226845Z",
     "start_time": "2021-12-11T18:24:55.960407Z"
    }
   },
   "outputs": [
    {
     "data": {
      "text/plain": [
       "(2, 35)"
      ]
     },
     "execution_count": 8,
     "metadata": {},
     "output_type": "execute_result"
    }
   ],
   "source": [
    "solver.turns, solver.flashes"
   ]
  },
  {
   "cell_type": "code",
   "execution_count": 9,
   "id": "8ac64e69",
   "metadata": {
    "ExecuteTime": {
     "end_time": "2021-12-11T18:24:56.508156Z",
     "start_time": "2021-12-11T18:24:56.229187Z"
    }
   },
   "outputs": [
    {
     "data": {
      "application/vnd.dataresource+json": {
       "data": [
        {
         "0": 0,
         "1": 0,
         "2": 5,
         "3": 0,
         "4": 9,
         "5": 0,
         "6": 0,
         "7": 8,
         "8": 6,
         "9": 6,
         "index": 0
        },
        {
         "0": 8,
         "1": 5,
         "2": 0,
         "3": 0,
         "4": 8,
         "5": 0,
         "6": 0,
         "7": 5,
         "8": 7,
         "9": 5,
         "index": 1
        },
        {
         "0": 9,
         "1": 9,
         "2": 0,
         "3": 0,
         "4": 0,
         "5": 0,
         "6": 0,
         "7": 0,
         "8": 3,
         "9": 9,
         "index": 2
        },
        {
         "0": 9,
         "1": 7,
         "2": 0,
         "3": 0,
         "4": 0,
         "5": 0,
         "6": 0,
         "7": 0,
         "8": 4,
         "9": 1,
         "index": 3
        },
        {
         "0": 9,
         "1": 9,
         "2": 3,
         "3": 5,
         "4": 0,
         "5": 8,
         "6": 0,
         "7": 0,
         "8": 6,
         "9": 3,
         "index": 4
        },
        {
         "0": 7,
         "1": 7,
         "2": 1,
         "3": 2,
         "4": 3,
         "5": 0,
         "6": 0,
         "7": 0,
         "8": 0,
         "9": 0,
         "index": 5
        },
        {
         "0": 7,
         "1": 9,
         "2": 1,
         "3": 1,
         "4": 2,
         "5": 5,
         "6": 0,
         "7": 0,
         "8": 0,
         "9": 9,
         "index": 6
        },
        {
         "0": 2,
         "1": 2,
         "2": 1,
         "3": 1,
         "4": 1,
         "5": 3,
         "6": 0,
         "7": 0,
         "8": 0,
         "9": 0,
         "index": 7
        },
        {
         "0": 0,
         "1": 4,
         "2": 2,
         "3": 1,
         "4": 1,
         "5": 2,
         "6": 5,
         "7": 0,
         "8": 0,
         "9": 0,
         "index": 8
        },
        {
         "0": 0,
         "1": 0,
         "2": 2,
         "3": 1,
         "4": 1,
         "5": 1,
         "6": 9,
         "7": 0,
         "8": 0,
         "9": 0,
         "index": 9
        }
       ],
       "schema": {
        "fields": [
         {
          "name": "index",
          "type": "integer"
         },
         {
          "name": 0,
          "type": "integer"
         },
         {
          "name": 1,
          "type": "integer"
         },
         {
          "name": 2,
          "type": "integer"
         },
         {
          "name": 3,
          "type": "integer"
         },
         {
          "name": 4,
          "type": "integer"
         },
         {
          "name": 5,
          "type": "integer"
         },
         {
          "name": 6,
          "type": "integer"
         },
         {
          "name": 7,
          "type": "integer"
         },
         {
          "name": 8,
          "type": "integer"
         },
         {
          "name": 9,
          "type": "integer"
         }
        ],
        "pandas_version": "0.20.0",
        "primaryKey": [
         "index"
        ]
       }
      },
      "text/html": [
       "<div>\n",
       "<style scoped>\n",
       "    .dataframe tbody tr th:only-of-type {\n",
       "        vertical-align: middle;\n",
       "    }\n",
       "\n",
       "    .dataframe tbody tr th {\n",
       "        vertical-align: top;\n",
       "    }\n",
       "\n",
       "    .dataframe thead th {\n",
       "        text-align: right;\n",
       "    }\n",
       "</style>\n",
       "<table border=\"1\" class=\"dataframe\">\n",
       "  <thead>\n",
       "    <tr style=\"text-align: right;\">\n",
       "      <th></th>\n",
       "      <th>0</th>\n",
       "      <th>1</th>\n",
       "      <th>2</th>\n",
       "      <th>3</th>\n",
       "      <th>4</th>\n",
       "      <th>5</th>\n",
       "      <th>6</th>\n",
       "      <th>7</th>\n",
       "      <th>8</th>\n",
       "      <th>9</th>\n",
       "    </tr>\n",
       "  </thead>\n",
       "  <tbody>\n",
       "    <tr>\n",
       "      <th>0</th>\n",
       "      <td>0</td>\n",
       "      <td>0</td>\n",
       "      <td>5</td>\n",
       "      <td>0</td>\n",
       "      <td>9</td>\n",
       "      <td>0</td>\n",
       "      <td>0</td>\n",
       "      <td>8</td>\n",
       "      <td>6</td>\n",
       "      <td>6</td>\n",
       "    </tr>\n",
       "    <tr>\n",
       "      <th>1</th>\n",
       "      <td>8</td>\n",
       "      <td>5</td>\n",
       "      <td>0</td>\n",
       "      <td>0</td>\n",
       "      <td>8</td>\n",
       "      <td>0</td>\n",
       "      <td>0</td>\n",
       "      <td>5</td>\n",
       "      <td>7</td>\n",
       "      <td>5</td>\n",
       "    </tr>\n",
       "    <tr>\n",
       "      <th>2</th>\n",
       "      <td>9</td>\n",
       "      <td>9</td>\n",
       "      <td>0</td>\n",
       "      <td>0</td>\n",
       "      <td>0</td>\n",
       "      <td>0</td>\n",
       "      <td>0</td>\n",
       "      <td>0</td>\n",
       "      <td>3</td>\n",
       "      <td>9</td>\n",
       "    </tr>\n",
       "    <tr>\n",
       "      <th>3</th>\n",
       "      <td>9</td>\n",
       "      <td>7</td>\n",
       "      <td>0</td>\n",
       "      <td>0</td>\n",
       "      <td>0</td>\n",
       "      <td>0</td>\n",
       "      <td>0</td>\n",
       "      <td>0</td>\n",
       "      <td>4</td>\n",
       "      <td>1</td>\n",
       "    </tr>\n",
       "    <tr>\n",
       "      <th>4</th>\n",
       "      <td>9</td>\n",
       "      <td>9</td>\n",
       "      <td>3</td>\n",
       "      <td>5</td>\n",
       "      <td>0</td>\n",
       "      <td>8</td>\n",
       "      <td>0</td>\n",
       "      <td>0</td>\n",
       "      <td>6</td>\n",
       "      <td>3</td>\n",
       "    </tr>\n",
       "    <tr>\n",
       "      <th>5</th>\n",
       "      <td>7</td>\n",
       "      <td>7</td>\n",
       "      <td>1</td>\n",
       "      <td>2</td>\n",
       "      <td>3</td>\n",
       "      <td>0</td>\n",
       "      <td>0</td>\n",
       "      <td>0</td>\n",
       "      <td>0</td>\n",
       "      <td>0</td>\n",
       "    </tr>\n",
       "    <tr>\n",
       "      <th>6</th>\n",
       "      <td>7</td>\n",
       "      <td>9</td>\n",
       "      <td>1</td>\n",
       "      <td>1</td>\n",
       "      <td>2</td>\n",
       "      <td>5</td>\n",
       "      <td>0</td>\n",
       "      <td>0</td>\n",
       "      <td>0</td>\n",
       "      <td>9</td>\n",
       "    </tr>\n",
       "    <tr>\n",
       "      <th>7</th>\n",
       "      <td>2</td>\n",
       "      <td>2</td>\n",
       "      <td>1</td>\n",
       "      <td>1</td>\n",
       "      <td>1</td>\n",
       "      <td>3</td>\n",
       "      <td>0</td>\n",
       "      <td>0</td>\n",
       "      <td>0</td>\n",
       "      <td>0</td>\n",
       "    </tr>\n",
       "    <tr>\n",
       "      <th>8</th>\n",
       "      <td>0</td>\n",
       "      <td>4</td>\n",
       "      <td>2</td>\n",
       "      <td>1</td>\n",
       "      <td>1</td>\n",
       "      <td>2</td>\n",
       "      <td>5</td>\n",
       "      <td>0</td>\n",
       "      <td>0</td>\n",
       "      <td>0</td>\n",
       "    </tr>\n",
       "    <tr>\n",
       "      <th>9</th>\n",
       "      <td>0</td>\n",
       "      <td>0</td>\n",
       "      <td>2</td>\n",
       "      <td>1</td>\n",
       "      <td>1</td>\n",
       "      <td>1</td>\n",
       "      <td>9</td>\n",
       "      <td>0</td>\n",
       "      <td>0</td>\n",
       "      <td>0</td>\n",
       "    </tr>\n",
       "  </tbody>\n",
       "</table>\n",
       "</div>"
      ],
      "text/plain": [
       "   0  1  2  3  4  5  6  7  8  9\n",
       "0  0  0  5  0  9  0  0  8  6  6\n",
       "1  8  5  0  0  8  0  0  5  7  5\n",
       "2  9  9  0  0  0  0  0  0  3  9\n",
       "3  9  7  0  0  0  0  0  0  4  1\n",
       "4  9  9  3  5  0  8  0  0  6  3\n",
       "5  7  7  1  2  3  0  0  0  0  0\n",
       "6  7  9  1  1  2  5  0  0  0  9\n",
       "7  2  2  1  1  1  3  0  0  0  0\n",
       "8  0  4  2  1  1  2  5  0  0  0\n",
       "9  0  0  2  1  1  1  9  0  0  0"
      ]
     },
     "execution_count": 9,
     "metadata": {},
     "output_type": "execute_result"
    }
   ],
   "source": [
    "solver.step()\n",
    "pandas.DataFrame(solver.grid.values())"
   ]
  },
  {
   "cell_type": "code",
   "execution_count": 10,
   "id": "ae0d6f1c",
   "metadata": {
    "ExecuteTime": {
     "end_time": "2021-12-11T18:24:56.968916Z",
     "start_time": "2021-12-11T18:24:56.511644Z"
    }
   },
   "outputs": [
    {
     "data": {
      "text/plain": [
       "204"
      ]
     },
     "execution_count": 10,
     "metadata": {},
     "output_type": "execute_result"
    }
   ],
   "source": [
    "# The advent of code page says there should be 204 flashes after 10 turns\n",
    "while solver.turns < 10:\n",
    "    solver.step()\n",
    "solver.flashes"
   ]
  },
  {
   "cell_type": "code",
   "execution_count": 11,
   "id": "fad18d22",
   "metadata": {
    "ExecuteTime": {
     "end_time": "2021-12-11T18:24:57.227742Z",
     "start_time": "2021-12-11T18:24:56.970690Z"
    }
   },
   "outputs": [
    {
     "data": {
      "text/plain": [
       "1656"
      ]
     },
     "execution_count": 11,
     "metadata": {},
     "output_type": "execute_result"
    }
   ],
   "source": [
    "# And 1656 after 100 turns\n",
    "while solver.turns < 100:\n",
    "    solver.step()\n",
    "solver.flashes"
   ]
  },
  {
   "cell_type": "code",
   "execution_count": 12,
   "id": "748631ec",
   "metadata": {
    "ExecuteTime": {
     "end_time": "2021-12-11T18:24:57.374105Z",
     "start_time": "2021-12-11T18:24:57.230360Z"
    }
   },
   "outputs": [
    {
     "data": {
      "text/plain": [
       "482"
      ]
     },
     "execution_count": 12,
     "metadata": {},
     "output_type": "execute_result"
    }
   ],
   "source": [
    "# second part of the challenge is to find when all values have flashed simultaneously\n",
    "# which would mean the values in the grid are all 0s\n",
    "#\n",
    "# we can check for that by summing up the flattened grid\n",
    "sum(solver.grid.flatten())"
   ]
  },
  {
   "cell_type": "code",
   "execution_count": 13,
   "id": "d54e465f",
   "metadata": {
    "ExecuteTime": {
     "end_time": "2021-12-11T18:24:57.666117Z",
     "start_time": "2021-12-11T18:24:57.376031Z"
    }
   },
   "outputs": [
    {
     "data": {
      "text/plain": [
       "195"
      ]
     },
     "execution_count": 13,
     "metadata": {},
     "output_type": "execute_result"
    }
   ],
   "source": [
    "# According to the advent of code page, this will happen on the 195th turn\n",
    "while True:\n",
    "    if sum(solver.grid.flatten()):\n",
    "        solver.step()\n",
    "    else:\n",
    "        break\n",
    "solver.turns"
   ]
  },
  {
   "cell_type": "code",
   "execution_count": 14,
   "id": "fde0b4b2",
   "metadata": {
    "ExecuteTime": {
     "end_time": "2021-12-11T18:24:57.837433Z",
     "start_time": "2021-12-11T18:24:57.668443Z"
    }
   },
   "outputs": [
    {
     "data": {
      "application/vnd.dataresource+json": {
       "data": [
        {
         "0": 0,
         "1": 0,
         "2": 0,
         "3": 0,
         "4": 0,
         "5": 0,
         "6": 0,
         "7": 0,
         "8": 0,
         "9": 0,
         "index": 0
        },
        {
         "0": 0,
         "1": 0,
         "2": 0,
         "3": 0,
         "4": 0,
         "5": 0,
         "6": 0,
         "7": 0,
         "8": 0,
         "9": 0,
         "index": 1
        },
        {
         "0": 0,
         "1": 0,
         "2": 0,
         "3": 0,
         "4": 0,
         "5": 0,
         "6": 0,
         "7": 0,
         "8": 0,
         "9": 0,
         "index": 2
        },
        {
         "0": 0,
         "1": 0,
         "2": 0,
         "3": 0,
         "4": 0,
         "5": 0,
         "6": 0,
         "7": 0,
         "8": 0,
         "9": 0,
         "index": 3
        },
        {
         "0": 0,
         "1": 0,
         "2": 0,
         "3": 0,
         "4": 0,
         "5": 0,
         "6": 0,
         "7": 0,
         "8": 0,
         "9": 0,
         "index": 4
        },
        {
         "0": 0,
         "1": 0,
         "2": 0,
         "3": 0,
         "4": 0,
         "5": 0,
         "6": 0,
         "7": 0,
         "8": 0,
         "9": 0,
         "index": 5
        },
        {
         "0": 0,
         "1": 0,
         "2": 0,
         "3": 0,
         "4": 0,
         "5": 0,
         "6": 0,
         "7": 0,
         "8": 0,
         "9": 0,
         "index": 6
        },
        {
         "0": 0,
         "1": 0,
         "2": 0,
         "3": 0,
         "4": 0,
         "5": 0,
         "6": 0,
         "7": 0,
         "8": 0,
         "9": 0,
         "index": 7
        },
        {
         "0": 0,
         "1": 0,
         "2": 0,
         "3": 0,
         "4": 0,
         "5": 0,
         "6": 0,
         "7": 0,
         "8": 0,
         "9": 0,
         "index": 8
        },
        {
         "0": 0,
         "1": 0,
         "2": 0,
         "3": 0,
         "4": 0,
         "5": 0,
         "6": 0,
         "7": 0,
         "8": 0,
         "9": 0,
         "index": 9
        }
       ],
       "schema": {
        "fields": [
         {
          "name": "index",
          "type": "integer"
         },
         {
          "name": 0,
          "type": "integer"
         },
         {
          "name": 1,
          "type": "integer"
         },
         {
          "name": 2,
          "type": "integer"
         },
         {
          "name": 3,
          "type": "integer"
         },
         {
          "name": 4,
          "type": "integer"
         },
         {
          "name": 5,
          "type": "integer"
         },
         {
          "name": 6,
          "type": "integer"
         },
         {
          "name": 7,
          "type": "integer"
         },
         {
          "name": 8,
          "type": "integer"
         },
         {
          "name": 9,
          "type": "integer"
         }
        ],
        "pandas_version": "0.20.0",
        "primaryKey": [
         "index"
        ]
       }
      },
      "text/html": [
       "<div>\n",
       "<style scoped>\n",
       "    .dataframe tbody tr th:only-of-type {\n",
       "        vertical-align: middle;\n",
       "    }\n",
       "\n",
       "    .dataframe tbody tr th {\n",
       "        vertical-align: top;\n",
       "    }\n",
       "\n",
       "    .dataframe thead th {\n",
       "        text-align: right;\n",
       "    }\n",
       "</style>\n",
       "<table border=\"1\" class=\"dataframe\">\n",
       "  <thead>\n",
       "    <tr style=\"text-align: right;\">\n",
       "      <th></th>\n",
       "      <th>0</th>\n",
       "      <th>1</th>\n",
       "      <th>2</th>\n",
       "      <th>3</th>\n",
       "      <th>4</th>\n",
       "      <th>5</th>\n",
       "      <th>6</th>\n",
       "      <th>7</th>\n",
       "      <th>8</th>\n",
       "      <th>9</th>\n",
       "    </tr>\n",
       "  </thead>\n",
       "  <tbody>\n",
       "    <tr>\n",
       "      <th>0</th>\n",
       "      <td>0</td>\n",
       "      <td>0</td>\n",
       "      <td>0</td>\n",
       "      <td>0</td>\n",
       "      <td>0</td>\n",
       "      <td>0</td>\n",
       "      <td>0</td>\n",
       "      <td>0</td>\n",
       "      <td>0</td>\n",
       "      <td>0</td>\n",
       "    </tr>\n",
       "    <tr>\n",
       "      <th>1</th>\n",
       "      <td>0</td>\n",
       "      <td>0</td>\n",
       "      <td>0</td>\n",
       "      <td>0</td>\n",
       "      <td>0</td>\n",
       "      <td>0</td>\n",
       "      <td>0</td>\n",
       "      <td>0</td>\n",
       "      <td>0</td>\n",
       "      <td>0</td>\n",
       "    </tr>\n",
       "    <tr>\n",
       "      <th>2</th>\n",
       "      <td>0</td>\n",
       "      <td>0</td>\n",
       "      <td>0</td>\n",
       "      <td>0</td>\n",
       "      <td>0</td>\n",
       "      <td>0</td>\n",
       "      <td>0</td>\n",
       "      <td>0</td>\n",
       "      <td>0</td>\n",
       "      <td>0</td>\n",
       "    </tr>\n",
       "    <tr>\n",
       "      <th>3</th>\n",
       "      <td>0</td>\n",
       "      <td>0</td>\n",
       "      <td>0</td>\n",
       "      <td>0</td>\n",
       "      <td>0</td>\n",
       "      <td>0</td>\n",
       "      <td>0</td>\n",
       "      <td>0</td>\n",
       "      <td>0</td>\n",
       "      <td>0</td>\n",
       "    </tr>\n",
       "    <tr>\n",
       "      <th>4</th>\n",
       "      <td>0</td>\n",
       "      <td>0</td>\n",
       "      <td>0</td>\n",
       "      <td>0</td>\n",
       "      <td>0</td>\n",
       "      <td>0</td>\n",
       "      <td>0</td>\n",
       "      <td>0</td>\n",
       "      <td>0</td>\n",
       "      <td>0</td>\n",
       "    </tr>\n",
       "    <tr>\n",
       "      <th>5</th>\n",
       "      <td>0</td>\n",
       "      <td>0</td>\n",
       "      <td>0</td>\n",
       "      <td>0</td>\n",
       "      <td>0</td>\n",
       "      <td>0</td>\n",
       "      <td>0</td>\n",
       "      <td>0</td>\n",
       "      <td>0</td>\n",
       "      <td>0</td>\n",
       "    </tr>\n",
       "    <tr>\n",
       "      <th>6</th>\n",
       "      <td>0</td>\n",
       "      <td>0</td>\n",
       "      <td>0</td>\n",
       "      <td>0</td>\n",
       "      <td>0</td>\n",
       "      <td>0</td>\n",
       "      <td>0</td>\n",
       "      <td>0</td>\n",
       "      <td>0</td>\n",
       "      <td>0</td>\n",
       "    </tr>\n",
       "    <tr>\n",
       "      <th>7</th>\n",
       "      <td>0</td>\n",
       "      <td>0</td>\n",
       "      <td>0</td>\n",
       "      <td>0</td>\n",
       "      <td>0</td>\n",
       "      <td>0</td>\n",
       "      <td>0</td>\n",
       "      <td>0</td>\n",
       "      <td>0</td>\n",
       "      <td>0</td>\n",
       "    </tr>\n",
       "    <tr>\n",
       "      <th>8</th>\n",
       "      <td>0</td>\n",
       "      <td>0</td>\n",
       "      <td>0</td>\n",
       "      <td>0</td>\n",
       "      <td>0</td>\n",
       "      <td>0</td>\n",
       "      <td>0</td>\n",
       "      <td>0</td>\n",
       "      <td>0</td>\n",
       "      <td>0</td>\n",
       "    </tr>\n",
       "    <tr>\n",
       "      <th>9</th>\n",
       "      <td>0</td>\n",
       "      <td>0</td>\n",
       "      <td>0</td>\n",
       "      <td>0</td>\n",
       "      <td>0</td>\n",
       "      <td>0</td>\n",
       "      <td>0</td>\n",
       "      <td>0</td>\n",
       "      <td>0</td>\n",
       "      <td>0</td>\n",
       "    </tr>\n",
       "  </tbody>\n",
       "</table>\n",
       "</div>"
      ],
      "text/plain": [
       "   0  1  2  3  4  5  6  7  8  9\n",
       "0  0  0  0  0  0  0  0  0  0  0\n",
       "1  0  0  0  0  0  0  0  0  0  0\n",
       "2  0  0  0  0  0  0  0  0  0  0\n",
       "3  0  0  0  0  0  0  0  0  0  0\n",
       "4  0  0  0  0  0  0  0  0  0  0\n",
       "5  0  0  0  0  0  0  0  0  0  0\n",
       "6  0  0  0  0  0  0  0  0  0  0\n",
       "7  0  0  0  0  0  0  0  0  0  0\n",
       "8  0  0  0  0  0  0  0  0  0  0\n",
       "9  0  0  0  0  0  0  0  0  0  0"
      ]
     },
     "execution_count": 14,
     "metadata": {},
     "output_type": "execute_result"
    }
   ],
   "source": [
    "pandas.DataFrame(solver.grid.values())"
   ]
  },
  {
   "cell_type": "code",
   "execution_count": null,
   "id": "ddca52f0",
   "metadata": {},
   "outputs": [],
   "source": []
  }
 ],
 "metadata": {
  "kernelspec": {
   "display_name": "Python 3 (ipykernel)",
   "language": "python",
   "name": "python3"
  },
  "language_info": {
   "codemirror_mode": {
    "name": "ipython",
    "version": 3
   },
   "file_extension": ".py",
   "mimetype": "text/x-python",
   "name": "python",
   "nbconvert_exporter": "python",
   "pygments_lexer": "ipython3",
   "version": "3.8.10"
  },
  "toc": {
   "base_numbering": 1,
   "nav_menu": {},
   "number_sections": true,
   "sideBar": true,
   "skip_h1_title": false,
   "title_cell": "Table of Contents",
   "title_sidebar": "Contents",
   "toc_cell": false,
   "toc_position": {},
   "toc_section_display": true,
   "toc_window_display": false
  }
 },
 "nbformat": 4,
 "nbformat_minor": 5
}
