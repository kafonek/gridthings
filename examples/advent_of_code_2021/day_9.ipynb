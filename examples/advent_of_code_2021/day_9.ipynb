{
 "cells": [
  {
   "cell_type": "markdown",
   "id": "61fba10d",
   "metadata": {},
   "source": [
    "The the [day 9 puzzle](https://adventofcode.com/2021/day/9) involves analyzing a grid to discover \"low points\" in the grid and then extrapolate out \"basins\" from those low points.\n",
    "\n",
    "A low point is when no adjacent numbers are lower than it.  A basin is all points touching a low point (or parts of the basin) that increment up in value without hitting 9."
   ]
  },
  {
   "cell_type": "code",
   "execution_count": 1,
   "id": "9244d006",
   "metadata": {
    "ExecuteTime": {
     "end_time": "2021-12-10T21:53:15.952759Z",
     "start_time": "2021-12-10T21:53:15.917402Z"
    }
   },
   "outputs": [],
   "source": [
    "import gridthings\n",
    "import pandas  # only for printing out the grid, not for analysis"
   ]
  },
  {
   "cell_type": "code",
   "execution_count": 2,
   "id": "e65f5ea5",
   "metadata": {
    "ExecuteTime": {
     "end_time": "2021-12-10T21:53:16.169830Z",
     "start_time": "2021-12-10T21:53:15.955936Z"
    }
   },
   "outputs": [
    {
     "data": {
      "text/plain": [
       "<IntGrid shape=(5, 10)>"
      ]
     },
     "execution_count": 2,
     "metadata": {},
     "output_type": "execute_result"
    }
   ],
   "source": [
    "data = \"\"\"\n",
    "2199943210\n",
    "3987894921\n",
    "9856789892\n",
    "8767896789\n",
    "9899965678\n",
    "\"\"\"\n",
    "\n",
    "# Use an IntGrid vice regular Grid to cast each value to int\n",
    "#\n",
    "# Setting the out_of_bounds_value to 10 so that when we\n",
    "# compare whether one cell is less than a neighbor cell,\n",
    "# any out of bounds cells will return true.\n",
    "# you'll see how this applies down below\n",
    "grid = gridthings.IntGrid(data, out_of_bounds_value=10)\n",
    "grid"
   ]
  },
  {
   "cell_type": "code",
   "execution_count": 3,
   "id": "37854b35",
   "metadata": {
    "ExecuteTime": {
     "end_time": "2021-12-10T21:53:16.537323Z",
     "start_time": "2021-12-10T21:53:16.171648Z"
    }
   },
   "outputs": [],
   "source": [
    "import pandas\n",
    "\n",
    "df = pandas.DataFrame(grid.data)\n",
    "# each cell in the dataframe is a gridthings.Cell pydantic object\n",
    "# turn that into just the Cell.value for easier display\n",
    "df = df.applymap(lambda cell: cell.value)"
   ]
  },
  {
   "cell_type": "code",
   "execution_count": 4,
   "id": "15994f6f",
   "metadata": {
    "ExecuteTime": {
     "end_time": "2021-12-10T21:53:17.242353Z",
     "start_time": "2021-12-10T21:53:16.539626Z"
    }
   },
   "outputs": [
    {
     "data": {
      "text/plain": [
       "IntCell(y=1, x=2, value=8)"
      ]
     },
     "execution_count": 4,
     "metadata": {},
     "output_type": "execute_result"
    }
   ],
   "source": [
    "# Set the grids active context to some cell (it'll return the Cell object)\n",
    "grid.enter(y=1, x=2)"
   ]
  },
  {
   "cell_type": "code",
   "execution_count": 5,
   "id": "6cfae328",
   "metadata": {
    "ExecuteTime": {
     "end_time": "2021-12-10T21:53:17.417445Z",
     "start_time": "2021-12-10T21:53:17.244832Z"
    }
   },
   "outputs": [
    {
     "data": {
      "text/plain": [
       "[IntCell(y=1, x=1, value=9),\n",
       " IntCell(y=1, x=3, value=7),\n",
       " IntCell(y=0, x=2, value=9),\n",
       " IntCell(y=2, x=2, value=5)]"
      ]
     },
     "execution_count": 5,
     "metadata": {},
     "output_type": "execute_result"
    }
   ],
   "source": [
    "# Look at what .peek looks like.  .peek_linear returns left/right/up/down\n",
    "grid.peek_linear()"
   ]
  },
  {
   "cell_type": "code",
   "execution_count": 6,
   "id": "3a22205e",
   "metadata": {
    "ExecuteTime": {
     "end_time": "2021-12-10T21:53:17.634411Z",
     "start_time": "2021-12-10T21:53:17.420198Z"
    }
   },
   "outputs": [
    {
     "data": {
      "text/plain": [
       "[OutOfBoundsCell(y=0, x=-1, value=10),\n",
       " IntCell(y=0, x=1, value=1),\n",
       " OutOfBoundsCell(y=-1, x=0, value=10),\n",
       " IntCell(y=1, x=0, value=3)]"
      ]
     },
     "execution_count": 6,
     "metadata": {},
     "output_type": "execute_result"
    }
   ],
   "source": [
    "# also look at what a peek next to an out of bounds cell would be\n",
    "grid.enter(0, 0)\n",
    "grid.peek_linear()"
   ]
  },
  {
   "cell_type": "code",
   "execution_count": 7,
   "id": "15f8b49e",
   "metadata": {
    "ExecuteTime": {
     "end_time": "2021-12-10T21:53:18.050856Z",
     "start_time": "2021-12-10T21:53:17.636751Z"
    }
   },
   "outputs": [
    {
     "data": {
      "text/plain": [
       "(IntCell(y=0, x=0, value=2), IntCell(y=0, x=1, value=1))"
      ]
     },
     "execution_count": 7,
     "metadata": {},
     "output_type": "execute_result"
    }
   ],
   "source": [
    "# observe that you can compare cells directly\n",
    "cell1 = grid.enter(0, 0)\n",
    "cell2 = grid.enter(0, 1)\n",
    "cell1, cell2"
   ]
  },
  {
   "cell_type": "code",
   "execution_count": 8,
   "id": "83ea872f",
   "metadata": {
    "ExecuteTime": {
     "end_time": "2021-12-10T21:53:18.283500Z",
     "start_time": "2021-12-10T21:53:18.053321Z"
    }
   },
   "outputs": [
    {
     "data": {
      "text/plain": [
       "False"
      ]
     },
     "execution_count": 8,
     "metadata": {},
     "output_type": "execute_result"
    }
   ],
   "source": [
    "cell1 == cell2"
   ]
  },
  {
   "cell_type": "code",
   "execution_count": 9,
   "id": "f75372f3",
   "metadata": {
    "ExecuteTime": {
     "end_time": "2021-12-10T21:53:18.550786Z",
     "start_time": "2021-12-10T21:53:18.285552Z"
    }
   },
   "outputs": [
    {
     "data": {
      "text/plain": [
       "True"
      ]
     },
     "execution_count": 9,
     "metadata": {},
     "output_type": "execute_result"
    }
   ],
   "source": [
    "cell1 > cell2"
   ]
  },
  {
   "cell_type": "code",
   "execution_count": 10,
   "id": "dcfe398f",
   "metadata": {
    "ExecuteTime": {
     "end_time": "2021-12-10T21:53:18.942778Z",
     "start_time": "2021-12-10T21:53:18.554243Z"
    }
   },
   "outputs": [
    {
     "data": {
      "text/plain": [
       "True"
      ]
     },
     "execution_count": 10,
     "metadata": {},
     "output_type": "execute_result"
    }
   ],
   "source": [
    "cell2 < cell1"
   ]
  },
  {
   "cell_type": "code",
   "execution_count": 11,
   "id": "536f34fa",
   "metadata": {
    "ExecuteTime": {
     "end_time": "2021-12-10T21:53:19.142495Z",
     "start_time": "2021-12-10T21:53:18.944969Z"
    }
   },
   "outputs": [
    {
     "data": {
      "text/plain": [
       "[IntCell(y=0, x=0, value=2),\n",
       " IntCell(y=0, x=1, value=1),\n",
       " IntCell(y=0, x=2, value=9),\n",
       " IntCell(y=0, x=3, value=9),\n",
       " IntCell(y=0, x=4, value=9)]"
      ]
     },
     "execution_count": 11,
     "metadata": {},
     "output_type": "execute_result"
    }
   ],
   "source": [
    "# Lastly, check out what a flattened dictionary looks like\n",
    "grid.flatten()[:5]"
   ]
  },
  {
   "cell_type": "code",
   "execution_count": 12,
   "id": "62469a57",
   "metadata": {
    "ExecuteTime": {
     "end_time": "2021-12-10T21:53:19.353686Z",
     "start_time": "2021-12-10T21:53:19.144646Z"
    }
   },
   "outputs": [
    {
     "data": {
      "text/plain": [
       "[IntCell(y=0, x=1, value=1),\n",
       " IntCell(y=0, x=9, value=0),\n",
       " IntCell(y=2, x=2, value=5),\n",
       " IntCell(y=4, x=6, value=5)]"
      ]
     },
     "execution_count": 12,
     "metadata": {},
     "output_type": "execute_result"
    }
   ],
   "source": [
    "# Step one, find all the low points in the grid\n",
    "low_points = []\n",
    "\n",
    "\n",
    "def is_low_point(y, x):\n",
    "    seed = grid.enter(y, x)\n",
    "    for cell in grid.peek_linear():\n",
    "        # return False if any neighboring cells are smaller\n",
    "        # it wouldn't be a low point if that's the case\n",
    "        # remember OutOfBoundCells have value 10 because\n",
    "        # of the default set earlier on\n",
    "        if seed > cell:\n",
    "            return False\n",
    "    return True\n",
    "\n",
    "\n",
    "for cell in grid.flatten():\n",
    "    if is_low_point(cell.y, cell.x):\n",
    "        low_points.append(cell)\n",
    "\n",
    "low_points"
   ]
  },
  {
   "cell_type": "code",
   "execution_count": 13,
   "id": "2fa89eab",
   "metadata": {
    "ExecuteTime": {
     "end_time": "2021-12-10T21:53:19.532725Z",
     "start_time": "2021-12-10T21:53:19.355523Z"
    }
   },
   "outputs": [
    {
     "data": {
      "text/plain": [
       "[<Basin start=y=0 x=1 value=1 points=3>,\n",
       " <Basin start=y=0 x=9 value=0 points=9>,\n",
       " <Basin start=y=2 x=2 value=5 points=14>,\n",
       " <Basin start=y=4 x=6 value=5 points=9>]"
      ]
     },
     "execution_count": 13,
     "metadata": {},
     "output_type": "execute_result"
    }
   ],
   "source": [
    "# Step two, find basins around those low points\n",
    "# a basin is all locations neighboring a low point\n",
    "# that are higher value but not OutOfBounds or value 9\n",
    "#\n",
    "# Note that Cells can be compared with >, >=, <, <=\n",
    "# as if they were plain values, but Cell == Cell\n",
    "# will compare the dictionaries, so \"cell in [cells]\"\n",
    "# still works here\n",
    "\n",
    "basins = []\n",
    "\n",
    "\n",
    "class Basin:\n",
    "    def __init__(self, start_cell: gridthings.Cell):\n",
    "        self.points = [start_cell]\n",
    "        for point in self.points:\n",
    "            # self.points will be added to if appropriate\n",
    "            # in the self.explore() method\n",
    "            self.explore(point)\n",
    "\n",
    "    def explore(self, seed_cell: gridthings.Cell):\n",
    "        # set active context for .peek() and return\n",
    "        # Cell at this y, x point\n",
    "        seed = grid.enter(seed_cell.y, seed_cell.x)\n",
    "        for cell in grid.peek_linear():\n",
    "            if cell not in self.points:\n",
    "                if cell < 9 and cell > seed:\n",
    "                    self.points.append(cell)\n",
    "\n",
    "    def __repr__(self):\n",
    "        return f\"<Basin start={self.points[0]} points={len(self.points)}>\"\n",
    "\n",
    "\n",
    "for point in low_points:\n",
    "    basin = Basin(start_cell=point)\n",
    "    basins.append(basin)\n",
    "\n",
    "basins"
   ]
  },
  {
   "cell_type": "code",
   "execution_count": 14,
   "id": "19017852",
   "metadata": {
    "ExecuteTime": {
     "end_time": "2021-12-10T21:53:19.967368Z",
     "start_time": "2021-12-10T21:53:19.535073Z"
    }
   },
   "outputs": [
    {
     "data": {
      "text/plain": [
       "[IntCell(y=0, x=1, value=1),\n",
       " IntCell(y=0, x=0, value=2),\n",
       " IntCell(y=1, x=0, value=3)]"
      ]
     },
     "execution_count": 14,
     "metadata": {},
     "output_type": "execute_result"
    }
   ],
   "source": [
    "basins[0].points"
   ]
  },
  {
   "cell_type": "code",
   "execution_count": 15,
   "id": "106e78c4",
   "metadata": {
    "ExecuteTime": {
     "end_time": "2021-12-10T21:53:20.217634Z",
     "start_time": "2021-12-10T21:53:19.970031Z"
    }
   },
   "outputs": [
    {
     "data": {
      "text/plain": [
       "[IntCell(y=0, x=9, value=0),\n",
       " IntCell(y=0, x=8, value=1),\n",
       " IntCell(y=1, x=9, value=1),\n",
       " IntCell(y=0, x=7, value=2),\n",
       " IntCell(y=1, x=8, value=2),\n",
       " IntCell(y=2, x=9, value=2),\n",
       " IntCell(y=0, x=6, value=3),\n",
       " IntCell(y=0, x=5, value=4),\n",
       " IntCell(y=1, x=6, value=4)]"
      ]
     },
     "execution_count": 15,
     "metadata": {},
     "output_type": "execute_result"
    }
   ],
   "source": [
    "basins[1].points"
   ]
  },
  {
   "cell_type": "code",
   "execution_count": 16,
   "id": "e36a15c0",
   "metadata": {
    "ExecuteTime": {
     "end_time": "2021-12-10T21:53:20.460403Z",
     "start_time": "2021-12-10T21:53:20.219238Z"
    }
   },
   "outputs": [
    {
     "data": {
      "text/plain": [
       "[<Basin start=y=0 x=1 value=1 points=3>,\n",
       " <Basin start=y=0 x=9 value=0 points=9>,\n",
       " <Basin start=y=4 x=6 value=5 points=9>,\n",
       " <Basin start=y=2 x=2 value=5 points=14>]"
      ]
     },
     "execution_count": 16,
     "metadata": {},
     "output_type": "execute_result"
    }
   ],
   "source": [
    "# Find the three largest Basins and multiply their size together\n",
    "sorted_basins = list(sorted(basins, key=lambda item: len(item.points)))\n",
    "sorted_basins"
   ]
  },
  {
   "cell_type": "code",
   "execution_count": 17,
   "id": "8eba8b19",
   "metadata": {
    "ExecuteTime": {
     "end_time": "2021-12-10T21:53:20.793019Z",
     "start_time": "2021-12-10T21:53:20.462389Z"
    }
   },
   "outputs": [
    {
     "data": {
      "text/plain": [
       "1134"
      ]
     },
     "execution_count": 17,
     "metadata": {},
     "output_type": "execute_result"
    }
   ],
   "source": [
    "import math\n",
    "\n",
    "math.prod([len(basin.points) for basin in sorted_basins[-3:]])"
   ]
  },
  {
   "cell_type": "code",
   "execution_count": null,
   "id": "fe890988",
   "metadata": {},
   "outputs": [],
   "source": []
  }
 ],
 "metadata": {
  "kernelspec": {
   "display_name": "Python 3 (ipykernel)",
   "language": "python",
   "name": "python3"
  },
  "language_info": {
   "codemirror_mode": {
    "name": "ipython",
    "version": 3
   },
   "file_extension": ".py",
   "mimetype": "text/x-python",
   "name": "python",
   "nbconvert_exporter": "python",
   "pygments_lexer": "ipython3",
   "version": "3.8.10"
  },
  "toc": {
   "base_numbering": 1,
   "nav_menu": {},
   "number_sections": true,
   "sideBar": true,
   "skip_h1_title": false,
   "title_cell": "Table of Contents",
   "title_sidebar": "Contents",
   "toc_cell": false,
   "toc_position": {},
   "toc_section_display": true,
   "toc_window_display": false
  }
 },
 "nbformat": 4,
 "nbformat_minor": 5
}
