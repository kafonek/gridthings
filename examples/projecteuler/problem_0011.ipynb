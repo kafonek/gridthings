{
 "cells": [
  {
   "cell_type": "markdown",
   "id": "1ca0c344",
   "metadata": {},
   "source": [
    "ProjectEuler.net [problem #11](https://projecteuler.net/problem=11)\n",
    "\n",
    "In the 20×20 grid below, what is the greatest product of four adjacent numbers in the same direction (up, down, left, right, or diagonally) in the 20×20 grid?"
   ]
  },
  {
   "cell_type": "code",
   "execution_count": 1,
   "id": "7b1122ff",
   "metadata": {
    "ExecuteTime": {
     "end_time": "2021-12-11T19:08:34.617085Z",
     "start_time": "2021-12-11T19:08:34.580258Z"
    }
   },
   "outputs": [
    {
     "data": {
      "text/plain": [
       "<IntGrid shape=(20, 20)>"
      ]
     },
     "execution_count": 1,
     "metadata": {},
     "output_type": "execute_result"
    }
   ],
   "source": [
    "import gridthings\n",
    "\n",
    "text = \"\"\"\n",
    "08 02 22 97 38 15 00 40 00 75 04 05 07 78 52 12 50 77 91 08\n",
    "49 49 99 40 17 81 18 57 60 87 17 40 98 43 69 48 04 56 62 00\n",
    "81 49 31 73 55 79 14 29 93 71 40 67 53 88 30 03 49 13 36 65\n",
    "52 70 95 23 04 60 11 42 69 24 68 56 01 32 56 71 37 02 36 91\n",
    "22 31 16 71 51 67 63 89 41 92 36 54 22 40 40 28 66 33 13 80\n",
    "24 47 32 60 99 03 45 02 44 75 33 53 78 36 84 20 35 17 12 50\n",
    "32 98 81 28 64 23 67 10 26 38 40 67 59 54 70 66 18 38 64 70\n",
    "67 26 20 68 02 62 12 20 95 63 94 39 63 08 40 91 66 49 94 21\n",
    "24 55 58 05 66 73 99 26 97 17 78 78 96 83 14 88 34 89 63 72\n",
    "21 36 23 09 75 00 76 44 20 45 35 14 00 61 33 97 34 31 33 95\n",
    "78 17 53 28 22 75 31 67 15 94 03 80 04 62 16 14 09 53 56 92\n",
    "16 39 05 42 96 35 31 47 55 58 88 24 00 17 54 24 36 29 85 57\n",
    "86 56 00 48 35 71 89 07 05 44 44 37 44 60 21 58 51 54 17 58\n",
    "19 80 81 68 05 94 47 69 28 73 92 13 86 52 17 77 04 89 55 40\n",
    "04 52 08 83 97 35 99 16 07 97 57 32 16 26 26 79 33 27 98 66\n",
    "88 36 68 87 57 62 20 72 03 46 33 67 46 55 12 32 63 93 53 69\n",
    "04 42 16 73 38 25 39 11 24 94 72 18 08 46 29 32 40 62 76 36\n",
    "20 69 36 41 72 30 23 88 34 62 99 69 82 67 59 85 74 04 36 16\n",
    "20 73 35 29 78 31 90 01 74 31 49 71 48 86 81 16 23 57 05 54\n",
    "01 70 54 71 83 51 54 69 16 92 33 48 61 43 52 01 89 19 67 48\n",
    "\"\"\"\n",
    "\n",
    "grid = gridthings.IntGrid(text, sep=\" \")\n",
    "grid"
   ]
  },
  {
   "cell_type": "code",
   "execution_count": 2,
   "id": "0882278c",
   "metadata": {
    "ExecuteTime": {
     "end_time": "2021-12-11T19:08:34.855413Z",
     "start_time": "2021-12-11T19:08:34.619992Z"
    }
   },
   "outputs": [],
   "source": [
    "# gridthings can help solve this problem by extracting rows\n",
    "# of cells using the grid.line() method.\n",
    "#\n",
    "# To cover all combinations\n",
    "# of numbers, we'll start in the top left (0, 0) and \"fan\" our\n",
    "# way across the entire grid, grabbing lines that extend right,\n",
    "# lines that extend down, and lines that extend down diagonally\n",
    "# going both right and left"
   ]
  },
  {
   "cell_type": "code",
   "execution_count": 3,
   "id": "a44517b5",
   "metadata": {
    "ExecuteTime": {
     "end_time": "2021-12-11T19:08:35.198594Z",
     "start_time": "2021-12-11T19:08:34.857798Z"
    }
   },
   "outputs": [
    {
     "data": {
      "text/plain": [
       "<Collection [[IntCell(y=0, x=0, value=8), IntCell(y=0, x=1, value=2), IntCell(y=0, x=2, value=22), IntCell(y=0, x=3, value=97)]]>"
      ]
     },
     "execution_count": 3,
     "metadata": {},
     "output_type": "execute_result"
    }
   ],
   "source": [
    "# Here's a line from 0,0 to 0,4\n",
    "#\n",
    "# the arguments are: y, x start point; y_step, x_step slope; and distance\n",
    "collection = grid.line(y=0, x=0, x_step=1, distance=4)\n",
    "collection"
   ]
  },
  {
   "cell_type": "code",
   "execution_count": 4,
   "id": "d65c84f6",
   "metadata": {
    "ExecuteTime": {
     "end_time": "2021-12-11T19:08:35.435256Z",
     "start_time": "2021-12-11T19:08:35.201094Z"
    }
   },
   "outputs": [
    {
     "data": {
      "text/plain": [
       "34144"
      ]
     },
     "execution_count": 4,
     "metadata": {},
     "output_type": "execute_result"
    }
   ],
   "source": [
    "# Thanks to how the Cell and Collection classes are built,\n",
    "# functions like math.prod can be used out of the box\n",
    "# (as opposed to having to extract the Cell.value's yourself)\n",
    "import math\n",
    "\n",
    "math.prod(collection)"
   ]
  },
  {
   "cell_type": "code",
   "execution_count": 5,
   "id": "d1dc0c03",
   "metadata": {
    "ExecuteTime": {
     "end_time": "2021-12-11T19:08:35.831631Z",
     "start_time": "2021-12-11T19:08:35.437872Z"
    }
   },
   "outputs": [
    {
     "data": {
      "text/plain": [
       "<Collection [[IntCell(y=0, x=0, value=8), IntCell(y=1, x=1, value=49), IntCell(y=2, x=2, value=31), IntCell(y=3, x=3, value=23)]]>"
      ]
     },
     "execution_count": 5,
     "metadata": {},
     "output_type": "execute_result"
    }
   ],
   "source": [
    "# A diagonal line sloping down and right\n",
    "grid.line(y=0, x=0, y_step=1, x_step=1, distance=4)"
   ]
  },
  {
   "cell_type": "code",
   "execution_count": 6,
   "id": "0e89209b",
   "metadata": {
    "ExecuteTime": {
     "end_time": "2021-12-11T19:08:36.114593Z",
     "start_time": "2021-12-11T19:08:35.833611Z"
    }
   },
   "outputs": [
    {
     "data": {
      "text/plain": [
       "<Collection [[IntCell(y=0, x=0, value=8), IntCell(y=1, x=0, value=49), IntCell(y=2, x=0, value=81), IntCell(y=3, x=0, value=52)]]>"
      ]
     },
     "execution_count": 6,
     "metadata": {},
     "output_type": "execute_result"
    }
   ],
   "source": [
    "# A vertical line\n",
    "grid.line(y=0, x=0, y_step=1, x_step=0, distance=4)"
   ]
  },
  {
   "cell_type": "code",
   "execution_count": 7,
   "id": "5f4ad16f",
   "metadata": {
    "ExecuteTime": {
     "end_time": "2021-12-11T19:08:36.464633Z",
     "start_time": "2021-12-11T19:08:36.117102Z"
    }
   },
   "outputs": [
    {
     "data": {
      "text/plain": [
       "<Collection [[IntCell(y=0, x=0, value=8), OutOfBoundsCell(y=1, x=-1, value=None), OutOfBoundsCell(y=2, x=-2, value=None), OutOfBoundsCell(y=3, x=-3, value=None)]]>"
      ]
     },
     "execution_count": 7,
     "metadata": {},
     "output_type": "execute_result"
    }
   ],
   "source": [
    "# A diagonal line sloping down and left\n",
    "#\n",
    "# Notice in this output there are OutOfBoundsCells, meaning\n",
    "# our line extends outside the grid.  In some other use-cases\n",
    "# there might be something to do with those, but for this problem\n",
    "# it means we shouldn't evaluate the product\n",
    "grid.line(y=0, x=0, y_step=1, x_step=-1, distance=4)"
   ]
  },
  {
   "cell_type": "code",
   "execution_count": 8,
   "id": "154ad67b",
   "metadata": {
    "ExecuteTime": {
     "end_time": "2021-12-11T19:08:36.731558Z",
     "start_time": "2021-12-11T19:08:36.466341Z"
    }
   },
   "outputs": [
    {
     "data": {
      "text/plain": [
       "True"
      ]
     },
     "execution_count": 8,
     "metadata": {},
     "output_type": "execute_result"
    }
   ],
   "source": [
    "# We can check if a Collection contains out of bounds cells\n",
    "collection = grid.line(y=0, x=0, y_step=1, x_step=-1, distance=4)\n",
    "collection.extends_out_of_bounds()"
   ]
  },
  {
   "cell_type": "code",
   "execution_count": 9,
   "id": "16100b19",
   "metadata": {
    "ExecuteTime": {
     "end_time": "2021-12-11T19:08:36.985358Z",
     "start_time": "2021-12-11T19:08:36.733631Z"
    }
   },
   "outputs": [
    {
     "data": {
      "text/plain": [
       "<Collection [[IntCell(y=12, x=6, value=89), IntCell(y=13, x=5, value=94), IntCell(y=14, x=4, value=97), IntCell(y=15, x=3, value=87)]]>"
      ]
     },
     "execution_count": 9,
     "metadata": {},
     "output_type": "execute_result"
    }
   ],
   "source": [
    "# Here's a brute force approach to the solution.\n",
    "# Iterate through every cell, and calculate the product\n",
    "# for horizontal, vertical, and diagonal lines from that point\n",
    "#\n",
    "# Save off the Collection with the highest product\n",
    "top_product = None\n",
    "\n",
    "for cell in grid.flatten():\n",
    "    line_right = grid.line(y=cell.y, x=cell.x, x_step=1, distance=4)\n",
    "    line_down = grid.line(y=cell.y, x=cell.x, y_step=1, x_step=0, distance=4)\n",
    "    line_diag_right = grid.line(y=cell.y, x=cell.x, y_step=1, x_step=1, distance=4)\n",
    "    line_diag_left = grid.line(y=cell.y, x=cell.x, y_step=1, x_step=-1, distance=4)\n",
    "\n",
    "    for collection in [line_right, line_down, line_diag_right, line_diag_left]:\n",
    "        if collection.extends_out_of_bounds():\n",
    "            # skip any line that extends outside the grid\n",
    "            continue\n",
    "        if not top_product:\n",
    "            top_product = collection\n",
    "        else:\n",
    "            if math.prod(collection) > math.prod(top_product):\n",
    "                top_product = collection\n",
    "\n",
    "top_product"
   ]
  },
  {
   "cell_type": "code",
   "execution_count": 10,
   "id": "4e4abc95",
   "metadata": {
    "ExecuteTime": {
     "end_time": "2021-12-11T19:08:37.273515Z",
     "start_time": "2021-12-11T19:08:36.989047Z"
    }
   },
   "outputs": [
    {
     "data": {
      "text/plain": [
       "70600674"
      ]
     },
     "execution_count": 10,
     "metadata": {},
     "output_type": "execute_result"
    }
   ],
   "source": [
    "math.prod(top_product)"
   ]
  },
  {
   "cell_type": "code",
   "execution_count": null,
   "id": "010fbf70",
   "metadata": {},
   "outputs": [],
   "source": []
  },
  {
   "cell_type": "code",
   "execution_count": 11,
   "id": "e6d14a83",
   "metadata": {
    "ExecuteTime": {
     "end_time": "2021-12-11T19:08:37.992154Z",
     "start_time": "2021-12-11T19:08:37.275514Z"
    }
   },
   "outputs": [
    {
     "data": {
      "text/plain": [
       "(<Collection [[IntCell(y=19, x=16, value=89), OutOfBoundsCell(y=20, x=15, value=None), OutOfBoundsCell(y=21, x=14, value=None), OutOfBoundsCell(y=22, x=13, value=None)]]>,\n",
       " 70600674)"
      ]
     },
     "execution_count": 11,
     "metadata": {},
     "output_type": "execute_result"
    }
   ],
   "source": [
    "# We could also try to optimize this a little bit by guessing that the\n",
    "# top product must have a start cell that's somewhat high, say >80?\n",
    "# Additionally, we could store the product separate from the collection\n",
    "top_product = None\n",
    "top_collection = None\n",
    "\n",
    "for cell in grid.flatten():\n",
    "    if cell.value < 80:\n",
    "        continue\n",
    "    line_right = grid.line(y=cell.y, x=cell.x, x_step=1, distance=4)\n",
    "    line_down = grid.line(y=cell.y, x=cell.x, y_step=1, x_step=0, distance=4)\n",
    "    line_diag_right = grid.line(y=cell.y, x=cell.x, y_step=1, x_step=1, distance=4)\n",
    "    line_diag_left = grid.line(y=cell.y, x=cell.x, y_step=1, x_step=-1, distance=4)\n",
    "\n",
    "    for collection in [line_right, line_down, line_diag_right, line_diag_left]:\n",
    "        if collection.extends_out_of_bounds():\n",
    "            # skip any line that extends outside the grid\n",
    "            continue\n",
    "        product = math.prod(collection)\n",
    "        if not top_product or product > top_product:\n",
    "            top_product = product\n",
    "            top_collection = collection\n",
    "\n",
    "collection, top_product"
   ]
  },
  {
   "cell_type": "code",
   "execution_count": null,
   "id": "4b9ba372",
   "metadata": {},
   "outputs": [],
   "source": []
  }
 ],
 "metadata": {
  "kernelspec": {
   "display_name": "Python 3 (ipykernel)",
   "language": "python",
   "name": "python3"
  },
  "language_info": {
   "codemirror_mode": {
    "name": "ipython",
    "version": 3
   },
   "file_extension": ".py",
   "mimetype": "text/x-python",
   "name": "python",
   "nbconvert_exporter": "python",
   "pygments_lexer": "ipython3",
   "version": "3.8.10"
  },
  "toc": {
   "base_numbering": 1,
   "nav_menu": {},
   "number_sections": true,
   "sideBar": true,
   "skip_h1_title": false,
   "title_cell": "Table of Contents",
   "title_sidebar": "Contents",
   "toc_cell": false,
   "toc_position": {},
   "toc_section_display": true,
   "toc_window_display": false
  }
 },
 "nbformat": 4,
 "nbformat_minor": 5
}
