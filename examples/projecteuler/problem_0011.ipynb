{
 "cells": [
  {
   "cell_type": "markdown",
   "id": "1ca0c344",
   "metadata": {},
   "source": [
    "ProjectEuler.net [problem #11](https://projecteuler.net/problem=11)\n",
    "\n",
    "In the 20×20 grid below, what is the greatest product of four adjacent numbers in the same direction (up, down, left, right, or diagonally) in the 20×20 grid?"
   ]
  },
  {
   "cell_type": "code",
   "execution_count": 1,
   "id": "7b1122ff",
   "metadata": {
    "ExecuteTime": {
     "end_time": "2021-12-10T21:52:37.100950Z",
     "start_time": "2021-12-10T21:52:37.060563Z"
    }
   },
   "outputs": [
    {
     "data": {
      "text/plain": [
       "<IntGrid shape=(20, 20)>"
      ]
     },
     "execution_count": 1,
     "metadata": {},
     "output_type": "execute_result"
    }
   ],
   "source": [
    "import gridthings\n",
    "\n",
    "text = \"\"\"\n",
    "08 02 22 97 38 15 00 40 00 75 04 05 07 78 52 12 50 77 91 08\n",
    "49 49 99 40 17 81 18 57 60 87 17 40 98 43 69 48 04 56 62 00\n",
    "81 49 31 73 55 79 14 29 93 71 40 67 53 88 30 03 49 13 36 65\n",
    "52 70 95 23 04 60 11 42 69 24 68 56 01 32 56 71 37 02 36 91\n",
    "22 31 16 71 51 67 63 89 41 92 36 54 22 40 40 28 66 33 13 80\n",
    "24 47 32 60 99 03 45 02 44 75 33 53 78 36 84 20 35 17 12 50\n",
    "32 98 81 28 64 23 67 10 26 38 40 67 59 54 70 66 18 38 64 70\n",
    "67 26 20 68 02 62 12 20 95 63 94 39 63 08 40 91 66 49 94 21\n",
    "24 55 58 05 66 73 99 26 97 17 78 78 96 83 14 88 34 89 63 72\n",
    "21 36 23 09 75 00 76 44 20 45 35 14 00 61 33 97 34 31 33 95\n",
    "78 17 53 28 22 75 31 67 15 94 03 80 04 62 16 14 09 53 56 92\n",
    "16 39 05 42 96 35 31 47 55 58 88 24 00 17 54 24 36 29 85 57\n",
    "86 56 00 48 35 71 89 07 05 44 44 37 44 60 21 58 51 54 17 58\n",
    "19 80 81 68 05 94 47 69 28 73 92 13 86 52 17 77 04 89 55 40\n",
    "04 52 08 83 97 35 99 16 07 97 57 32 16 26 26 79 33 27 98 66\n",
    "88 36 68 87 57 62 20 72 03 46 33 67 46 55 12 32 63 93 53 69\n",
    "04 42 16 73 38 25 39 11 24 94 72 18 08 46 29 32 40 62 76 36\n",
    "20 69 36 41 72 30 23 88 34 62 99 69 82 67 59 85 74 04 36 16\n",
    "20 73 35 29 78 31 90 01 74 31 49 71 48 86 81 16 23 57 05 54\n",
    "01 70 54 71 83 51 54 69 16 92 33 48 61 43 52 01 89 19 67 48\n",
    "\"\"\"\n",
    "\n",
    "grid = gridthings.IntGrid(text, sep=\" \")\n",
    "grid"
   ]
  },
  {
   "cell_type": "code",
   "execution_count": 2,
   "id": "0882278c",
   "metadata": {
    "ExecuteTime": {
     "end_time": "2021-12-10T21:52:37.318751Z",
     "start_time": "2021-12-10T21:52:37.104118Z"
    }
   },
   "outputs": [],
   "source": [
    "# gridthings can help solve this problem by extracting rows\n",
    "# of cells using the grid.line() method.\n",
    "#\n",
    "# To cover all combinations\n",
    "# of numbers, we'll start in the top left (0, 0) and \"fan\" our\n",
    "# way across the entire grid, grabbing lines that extend right,\n",
    "# lines that extend down, and lines that extend down diagonally\n",
    "# going both right and left"
   ]
  },
  {
   "cell_type": "code",
   "execution_count": 3,
   "id": "55e36261",
   "metadata": {
    "ExecuteTime": {
     "end_time": "2021-12-10T21:52:37.554235Z",
     "start_time": "2021-12-10T21:52:37.321528Z"
    }
   },
   "outputs": [
    {
     "data": {
      "text/plain": [
       "IntCell(y=0, x=0, value=8)"
      ]
     },
     "execution_count": 3,
     "metadata": {},
     "output_type": "execute_result"
    }
   ],
   "source": [
    "cell = grid.enter(0, 0)\n",
    "cell"
   ]
  },
  {
   "cell_type": "code",
   "execution_count": 4,
   "id": "a44517b5",
   "metadata": {
    "ExecuteTime": {
     "end_time": "2021-12-10T21:52:37.721650Z",
     "start_time": "2021-12-10T21:52:37.557314Z"
    }
   },
   "outputs": [
    {
     "data": {
      "text/plain": [
       "Row(cells=[IntCell(y=0, x=0, value=8), IntCell(y=0, x=1, value=2), IntCell(y=0, x=2, value=22), IntCell(y=0, x=3, value=97)])"
      ]
     },
     "execution_count": 4,
     "metadata": {},
     "output_type": "execute_result"
    }
   ],
   "source": [
    "grid.line(x_step=1, distance=4)"
   ]
  },
  {
   "cell_type": "code",
   "execution_count": 5,
   "id": "d1dc0c03",
   "metadata": {
    "ExecuteTime": {
     "end_time": "2021-12-10T21:52:37.928719Z",
     "start_time": "2021-12-10T21:52:37.723607Z"
    }
   },
   "outputs": [
    {
     "data": {
      "text/plain": [
       "Row(cells=[IntCell(y=0, x=0, value=8), IntCell(y=1, x=1, value=49), IntCell(y=2, x=2, value=31), IntCell(y=3, x=3, value=23)])"
      ]
     },
     "execution_count": 5,
     "metadata": {},
     "output_type": "execute_result"
    }
   ],
   "source": [
    "grid.line(y_step=1, x_step=1, distance=4)"
   ]
  },
  {
   "cell_type": "code",
   "execution_count": 6,
   "id": "0e89209b",
   "metadata": {
    "ExecuteTime": {
     "end_time": "2021-12-10T21:52:38.137986Z",
     "start_time": "2021-12-10T21:52:37.930625Z"
    }
   },
   "outputs": [
    {
     "data": {
      "text/plain": [
       "Row(cells=[IntCell(y=0, x=0, value=8), IntCell(y=1, x=0, value=49), IntCell(y=2, x=0, value=81), IntCell(y=3, x=0, value=52)])"
      ]
     },
     "execution_count": 6,
     "metadata": {},
     "output_type": "execute_result"
    }
   ],
   "source": [
    "grid.line(y_step=1, x_step=0, distance=4)"
   ]
  },
  {
   "cell_type": "code",
   "execution_count": 7,
   "id": "2601c60f",
   "metadata": {
    "ExecuteTime": {
     "end_time": "2021-12-10T21:52:38.421274Z",
     "start_time": "2021-12-10T21:52:38.140412Z"
    }
   },
   "outputs": [
    {
     "data": {
      "text/plain": [
       "1651104"
      ]
     },
     "execution_count": 7,
     "metadata": {},
     "output_type": "execute_result"
    }
   ],
   "source": [
    "# Rows support easy product output thanks to how\n",
    "# Row and Cell objects are defined\n",
    "import math\n",
    "\n",
    "row = grid.line(y_step=1, x_step=0, distance=4)\n",
    "math.prod(row)"
   ]
  },
  {
   "cell_type": "code",
   "execution_count": 8,
   "id": "654c1869",
   "metadata": {
    "ExecuteTime": {
     "end_time": "2021-12-10T21:52:38.628373Z",
     "start_time": "2021-12-10T21:52:38.423587Z"
    }
   },
   "outputs": [
    {
     "data": {
      "text/plain": [
       "1651104"
      ]
     },
     "execution_count": 8,
     "metadata": {},
     "output_type": "execute_result"
    }
   ],
   "source": [
    "8 * 49 * 81 * 52"
   ]
  },
  {
   "cell_type": "code",
   "execution_count": 9,
   "id": "16100b19",
   "metadata": {
    "ExecuteTime": {
     "end_time": "2021-12-10T21:52:38.937574Z",
     "start_time": "2021-12-10T21:52:38.630035Z"
    }
   },
   "outputs": [
    {
     "data": {
      "text/plain": [
       "Row(cells=[IntCell(y=12, x=6, value=89), IntCell(y=13, x=5, value=94), IntCell(y=14, x=4, value=97), IntCell(y=15, x=3, value=87)])"
      ]
     },
     "execution_count": 9,
     "metadata": {},
     "output_type": "execute_result"
    }
   ],
   "source": [
    "high_row = None\n",
    "\n",
    "for cell in grid.flatten():\n",
    "    # set grid active context\n",
    "    grid.enter(cell.y, cell.x)\n",
    "    line_right = grid.line(x_step=1, distance=4)\n",
    "    line_down = grid.line(y_step=1, x_step=0, distance=4)\n",
    "    line_diag_right = grid.line(y_step=1, x_step=1, distance=4)\n",
    "    line_diag_left = grid.line(y_step=1, x_step=-1, distance=4)\n",
    "\n",
    "    for row in [line_right, line_down, line_diag_right, line_diag_left]:\n",
    "        if row.extends_out_of_bounds():\n",
    "            # skip any line that extends outside the grid\n",
    "            continue\n",
    "        if not high_row:\n",
    "            high_row = row\n",
    "        else:\n",
    "            if math.prod(row) > math.prod(high_row):\n",
    "                high_row = row\n",
    "\n",
    "high_row"
   ]
  },
  {
   "cell_type": "code",
   "execution_count": 10,
   "id": "4e4abc95",
   "metadata": {
    "ExecuteTime": {
     "end_time": "2021-12-10T21:52:39.087437Z",
     "start_time": "2021-12-10T21:52:38.940203Z"
    }
   },
   "outputs": [
    {
     "data": {
      "text/plain": [
       "70600674"
      ]
     },
     "execution_count": 10,
     "metadata": {},
     "output_type": "execute_result"
    }
   ],
   "source": [
    "math.prod(high_row)"
   ]
  },
  {
   "cell_type": "code",
   "execution_count": null,
   "id": "010fbf70",
   "metadata": {},
   "outputs": [],
   "source": []
  }
 ],
 "metadata": {
  "kernelspec": {
   "display_name": "Python 3 (ipykernel)",
   "language": "python",
   "name": "python3"
  },
  "language_info": {
   "codemirror_mode": {
    "name": "ipython",
    "version": 3
   },
   "file_extension": ".py",
   "mimetype": "text/x-python",
   "name": "python",
   "nbconvert_exporter": "python",
   "pygments_lexer": "ipython3",
   "version": "3.8.10"
  },
  "toc": {
   "base_numbering": 1,
   "nav_menu": {},
   "number_sections": true,
   "sideBar": true,
   "skip_h1_title": false,
   "title_cell": "Table of Contents",
   "title_sidebar": "Contents",
   "toc_cell": false,
   "toc_position": {},
   "toc_section_display": true,
   "toc_window_display": false
  }
 },
 "nbformat": 4,
 "nbformat_minor": 5
}
